{
 "cells": [
  {
   "cell_type": "markdown",
   "metadata": {
    "collapsed": true,
    "pycharm": {
     "name": "#%% md\n"
    }
   },
   "source": [
    "# Topic Model Production Notebook\n",
    "\n",
    "The following notebook is designed to demonstrate features to be used for production tool.\n",
    "\n",
    "Users will be able to:\n",
    "- Select Data from a given directory.\n",
    "- Select from a list of trained LDA models to use for their data.\n",
    "    - How does a user know which model to use? Models will be based on type of data trained.\n",
    "- View brief description(s) on algorithms and parameters used for models.\n",
    "- View table of topics related to each comment from selected dataset.\n",
    "\n"
   ]
  }
 ],
 "metadata": {
  "kernelspec": {
   "display_name": "Python 3",
   "language": "python",
   "name": "python3"
  },
  "language_info": {
   "codemirror_mode": {
    "name": "ipython",
    "version": 2
   },
   "file_extension": ".py",
   "mimetype": "text/x-python",
   "name": "python",
   "nbconvert_exporter": "python",
   "pygments_lexer": "ipython2",
   "version": "2.7.6"
  }
 },
 "nbformat": 4,
 "nbformat_minor": 0
}