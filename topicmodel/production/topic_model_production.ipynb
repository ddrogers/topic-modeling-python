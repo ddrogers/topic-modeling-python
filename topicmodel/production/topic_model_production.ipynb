{
 "cells": [
  {
   "cell_type": "markdown",
   "metadata": {
    "collapsed": true,
    "pycharm": {
     "name": "#%% md\n"
    }
   },
   "source": [
    "# Topic Model Research Notebook\n",
    "\n",
    "The following notebook is designed to give a user a notebook environment to train lda models, view results, and further\n",
    "optimize parameters based on the data being trained.\n",
    "\n",
    "Users will be able to:\n",
    "- Select Data from a given directory.\n",
    "- Set parameters for LDA model to be trained.\n",
    "- View coherence plots.\n",
    "- View pyLDAvis of topics for entire corpora.\n",
    "- View Topic Interpretability Table for entire corpora.\n",
    "- Set parameter for recommender systems*\n",
    "- View results of recommender system.\n",
    "- View recommender system visuals.\n",
    "- View brief description(s) on algorithms and parameters used for models.\n",
    "\n",
    "[*] To be decided\n"
   ]
  },
  {
   "cell_type": "code",
   "execution_count": 62,
   "metadata": {
    "pycharm": {
     "name": "#%%\n"
    }
   },
   "outputs": [],
   "source": [
    "# Import libraries\n",
    "import os\n",
    "from tkinter import *\n",
    "from tkinter import filedialog\n",
    "import ipywidgets as widgets\n",
    "from IPython.display import display\n",
    "import io\n",
    "import pandas as pd\n",
    "import json\n",
    "from cleantext import *\n",
    "from stopwordslist import *\n",
    "import gensim\n",
    "from gensim import corpora\n",
    "import matplotlib.pyplot as plt\n",
    "import pyLDAvis\n",
    "import pyLDAvis.gensim\n",
    "\n",
    "%matplotlib inline"
   ]
  },
  {
   "cell_type": "markdown",
   "metadata": {},
   "source": [
    "## Set Up Data Directory\n",
    "\n",
    "Locate the 'config.ini' file and set the directory for your files."
   ]
  },
  {
   "cell_type": "code",
   "execution_count": 4,
   "metadata": {
    "pycharm": {
     "name": "#%%\n"
    }
   },
   "outputs": [],
   "source": [
    "# Set directory where files can be accessed.\n",
    "os.chdir('../../data/reviews')"
   ]
  },
  {
   "cell_type": "code",
   "execution_count": 5,
   "metadata": {
    "pycharm": {
     "name": "#%%\n"
    }
   },
   "outputs": [],
   "source": [
    "# Display list of files in SelectMultiple format\n",
    "files_to_use = widgets.SelectMultiple(\n",
    "    options=os.listdir(),\n",
    "    # value=['Files'],\n",
    "    # rows=10\n",
    "    description='Files',\n",
    "    disabled=False\n",
    ")"
   ]
  },
  {
   "cell_type": "code",
   "execution_count": 8,
   "metadata": {
    "pycharm": {
     "name": "#%%\n"
    },
    "scrolled": true
   },
   "outputs": [
    {
     "data": {
      "application/vnd.jupyter.widget-view+json": {
       "model_id": "7fad29a9442e427a882ea3efe7c08880",
       "version_major": 2,
       "version_minor": 0
      },
      "text/plain": [
       "SelectMultiple(description='Files', options=('meta_Prime_Pantry.json', 'meta_Prime_Pantry_Copy.json'), value=(…"
      ]
     },
     "metadata": {},
     "output_type": "display_data"
    }
   ],
   "source": [
    "display(files_to_use)"
   ]
  },
  {
   "cell_type": "code",
   "execution_count": 9,
   "metadata": {
    "scrolled": true
   },
   "outputs": [
    {
     "data": {
      "text/plain": [
       "('meta_Prime_Pantry.json',)"
      ]
     },
     "execution_count": 9,
     "metadata": {},
     "output_type": "execute_result"
    }
   ],
   "source": [
    "files_to_use.value"
   ]
  },
  {
   "cell_type": "code",
   "execution_count": 10,
   "metadata": {},
   "outputs": [],
   "source": [
    "# Load Data\n",
    "data = []\n",
    "for line in open(files_to_use.value[0], 'r'):\n",
    "    data.append(json.loads(line))\n"
   ]
  },
  {
   "cell_type": "code",
   "execution_count": 11,
   "metadata": {},
   "outputs": [
    {
     "data": {
      "text/html": [
       "<div>\n",
       "<style scoped>\n",
       "    .dataframe tbody tr th:only-of-type {\n",
       "        vertical-align: middle;\n",
       "    }\n",
       "\n",
       "    .dataframe tbody tr th {\n",
       "        vertical-align: top;\n",
       "    }\n",
       "\n",
       "    .dataframe thead th {\n",
       "        text-align: right;\n",
       "    }\n",
       "</style>\n",
       "<table border=\"1\" class=\"dataframe\">\n",
       "  <thead>\n",
       "    <tr style=\"text-align: right;\">\n",
       "      <th></th>\n",
       "      <th>category</th>\n",
       "      <th>tech1</th>\n",
       "      <th>description</th>\n",
       "      <th>fit</th>\n",
       "      <th>title</th>\n",
       "      <th>also_buy</th>\n",
       "      <th>image</th>\n",
       "      <th>tech2</th>\n",
       "      <th>brand</th>\n",
       "      <th>feature</th>\n",
       "      <th>rank</th>\n",
       "      <th>also_view</th>\n",
       "      <th>details</th>\n",
       "      <th>main_cat</th>\n",
       "      <th>similar_item</th>\n",
       "      <th>date</th>\n",
       "      <th>price</th>\n",
       "      <th>asin</th>\n",
       "    </tr>\n",
       "  </thead>\n",
       "  <tbody>\n",
       "    <tr>\n",
       "      <th>0</th>\n",
       "      <td>[]</td>\n",
       "      <td></td>\n",
       "      <td>[Sink your sweet tooth into MILK DUDS Candya d...</td>\n",
       "      <td></td>\n",
       "      <td>HERSHEY'S Milk Duds Candy, 5 Ounce(Halloween C...</td>\n",
       "      <td>[B019KE37WO, B007NQSWEU]</td>\n",
       "      <td>[https://images-na.ssl-images-amazon.com/image...</td>\n",
       "      <td></td>\n",
       "      <td>Milk Duds</td>\n",
       "      <td>[]</td>\n",
       "      <td>[]</td>\n",
       "      <td>[]</td>\n",
       "      <td>{'ASIN: ': 'B00005BPJO', 'Item model number:':...</td>\n",
       "      <td>&lt;img src=\"https://m.media-amazon.com/images/G/...</td>\n",
       "      <td></td>\n",
       "      <td></td>\n",
       "      <td>$5.00</td>\n",
       "      <td>B00005BPJO</td>\n",
       "    </tr>\n",
       "    <tr>\n",
       "      <th>1</th>\n",
       "      <td>[]</td>\n",
       "      <td></td>\n",
       "      <td>[Sink your sweet tooth into MILK DUDS Candya d...</td>\n",
       "      <td></td>\n",
       "      <td>HERSHEY'S Milk Duds Candy, 5 Ounce(Halloween C...</td>\n",
       "      <td>[B019KE37WO, B007NQSWEU]</td>\n",
       "      <td>[https://images-na.ssl-images-amazon.com/image...</td>\n",
       "      <td></td>\n",
       "      <td>Milk Duds</td>\n",
       "      <td>[]</td>\n",
       "      <td>[]</td>\n",
       "      <td>[]</td>\n",
       "      <td>{'ASIN: ': 'B00005BPJO', 'Item model number:':...</td>\n",
       "      <td>&lt;img src=\"https://m.media-amazon.com/images/G/...</td>\n",
       "      <td></td>\n",
       "      <td></td>\n",
       "      <td>$5.00</td>\n",
       "      <td>B00005BPJO</td>\n",
       "    </tr>\n",
       "    <tr>\n",
       "      <th>2</th>\n",
       "      <td>[]</td>\n",
       "      <td></td>\n",
       "      <td>[A perfect Lentil soup starts with Goya Lentil...</td>\n",
       "      <td></td>\n",
       "      <td>Goya Dry Lentils, 16 oz</td>\n",
       "      <td>[B003SI144W, B000VDRKEK]</td>\n",
       "      <td>[https://images-na.ssl-images-amazon.com/image...</td>\n",
       "      <td></td>\n",
       "      <td>Goya</td>\n",
       "      <td>[]</td>\n",
       "      <td>[]</td>\n",
       "      <td>[B074MFVZG7, B079PTH69L, B000VDRKEK, B074M9T81...</td>\n",
       "      <td>{'ASIN: ': 'B0000DIF38'}</td>\n",
       "      <td>&lt;img src=\"https://images-na.ssl-images-amazon....</td>\n",
       "      <td></td>\n",
       "      <td></td>\n",
       "      <td></td>\n",
       "      <td>B0000DIF38</td>\n",
       "    </tr>\n",
       "    <tr>\n",
       "      <th>3</th>\n",
       "      <td>[]</td>\n",
       "      <td></td>\n",
       "      <td>[Saran Premium Wrap is an extra tough yet easy...</td>\n",
       "      <td></td>\n",
       "      <td>Saran Premium Plastic Wrap, 100 Sq Ft</td>\n",
       "      <td>[B01MY5FHT6, B000PYF8VM, B000SRMDFA, B07CX6LN8...</td>\n",
       "      <td>[https://images-na.ssl-images-amazon.com/image...</td>\n",
       "      <td></td>\n",
       "      <td>Saran</td>\n",
       "      <td>[]</td>\n",
       "      <td>[]</td>\n",
       "      <td>[B077QLSLRQ, B00JPKW1RQ, B000FE2IK6, B00XUJHJ9...</td>\n",
       "      <td>{'Domestic Shipping: ': 'This item can only be...</td>\n",
       "      <td>&lt;img src=\"https://images-na.ssl-images-amazon....</td>\n",
       "      <td></td>\n",
       "      <td></td>\n",
       "      <td></td>\n",
       "      <td>B0000DIWNI</td>\n",
       "    </tr>\n",
       "    <tr>\n",
       "      <th>4</th>\n",
       "      <td>[]</td>\n",
       "      <td></td>\n",
       "      <td>[200 sq ft (285 ft x 11-3/4 in x 18.6 m2). Eas...</td>\n",
       "      <td></td>\n",
       "      <td>Saran Cling Plus Plastic Wrap, 200 Sq Ft</td>\n",
       "      <td>[]</td>\n",
       "      <td>[https://images-na.ssl-images-amazon.com/image...</td>\n",
       "      <td></td>\n",
       "      <td>Saran</td>\n",
       "      <td>[]</td>\n",
       "      <td>[]</td>\n",
       "      <td>[B0014CZ0TE]</td>\n",
       "      <td>{'Domestic Shipping: ': 'This item can only be...</td>\n",
       "      <td>&lt;img src=\"https://images-na.ssl-images-amazon....</td>\n",
       "      <td></td>\n",
       "      <td></td>\n",
       "      <td></td>\n",
       "      <td>B0000DIWNZ</td>\n",
       "    </tr>\n",
       "  </tbody>\n",
       "</table>\n",
       "</div>"
      ],
      "text/plain": [
       "  category tech1                                        description fit  \\\n",
       "0       []        [Sink your sweet tooth into MILK DUDS Candya d...       \n",
       "1       []        [Sink your sweet tooth into MILK DUDS Candya d...       \n",
       "2       []        [A perfect Lentil soup starts with Goya Lentil...       \n",
       "3       []        [Saran Premium Wrap is an extra tough yet easy...       \n",
       "4       []        [200 sq ft (285 ft x 11-3/4 in x 18.6 m2). Eas...       \n",
       "\n",
       "                                               title  \\\n",
       "0  HERSHEY'S Milk Duds Candy, 5 Ounce(Halloween C...   \n",
       "1  HERSHEY'S Milk Duds Candy, 5 Ounce(Halloween C...   \n",
       "2                            Goya Dry Lentils, 16 oz   \n",
       "3              Saran Premium Plastic Wrap, 100 Sq Ft   \n",
       "4           Saran Cling Plus Plastic Wrap, 200 Sq Ft   \n",
       "\n",
       "                                            also_buy  \\\n",
       "0                           [B019KE37WO, B007NQSWEU]   \n",
       "1                           [B019KE37WO, B007NQSWEU]   \n",
       "2                           [B003SI144W, B000VDRKEK]   \n",
       "3  [B01MY5FHT6, B000PYF8VM, B000SRMDFA, B07CX6LN8...   \n",
       "4                                                 []   \n",
       "\n",
       "                                               image tech2      brand feature  \\\n",
       "0  [https://images-na.ssl-images-amazon.com/image...        Milk Duds      []   \n",
       "1  [https://images-na.ssl-images-amazon.com/image...        Milk Duds      []   \n",
       "2  [https://images-na.ssl-images-amazon.com/image...             Goya      []   \n",
       "3  [https://images-na.ssl-images-amazon.com/image...            Saran      []   \n",
       "4  [https://images-na.ssl-images-amazon.com/image...            Saran      []   \n",
       "\n",
       "  rank                                          also_view  \\\n",
       "0   []                                                 []   \n",
       "1   []                                                 []   \n",
       "2   []  [B074MFVZG7, B079PTH69L, B000VDRKEK, B074M9T81...   \n",
       "3   []  [B077QLSLRQ, B00JPKW1RQ, B000FE2IK6, B00XUJHJ9...   \n",
       "4   []                                       [B0014CZ0TE]   \n",
       "\n",
       "                                             details  \\\n",
       "0  {'ASIN: ': 'B00005BPJO', 'Item model number:':...   \n",
       "1  {'ASIN: ': 'B00005BPJO', 'Item model number:':...   \n",
       "2                           {'ASIN: ': 'B0000DIF38'}   \n",
       "3  {'Domestic Shipping: ': 'This item can only be...   \n",
       "4  {'Domestic Shipping: ': 'This item can only be...   \n",
       "\n",
       "                                            main_cat similar_item date  price  \\\n",
       "0  <img src=\"https://m.media-amazon.com/images/G/...                    $5.00   \n",
       "1  <img src=\"https://m.media-amazon.com/images/G/...                    $5.00   \n",
       "2  <img src=\"https://images-na.ssl-images-amazon....                            \n",
       "3  <img src=\"https://images-na.ssl-images-amazon....                            \n",
       "4  <img src=\"https://images-na.ssl-images-amazon....                            \n",
       "\n",
       "         asin  \n",
       "0  B00005BPJO  \n",
       "1  B00005BPJO  \n",
       "2  B0000DIF38  \n",
       "3  B0000DIWNI  \n",
       "4  B0000DIWNZ  "
      ]
     },
     "execution_count": 11,
     "metadata": {},
     "output_type": "execute_result"
    }
   ],
   "source": [
    "df = pd.DataFrame(data)\n",
    "\n",
    "df.head()"
   ]
  },
  {
   "cell_type": "code",
   "execution_count": 12,
   "metadata": {},
   "outputs": [],
   "source": [
    "# Extract only review text and sample 1000\n",
    "reviews = pd.DataFrame(df.description).sample(5000)\n",
    "reviews = reviews.applymap(lambda x: x if not isinstance(x, list) else x[0] if len(x) else '')"
   ]
  },
  {
   "cell_type": "code",
   "execution_count": 13,
   "metadata": {},
   "outputs": [],
   "source": [
    "# Set directory where files can be accessed.\n",
    "os.chdir('../../topicmodel')"
   ]
  },
  {
   "cell_type": "code",
   "execution_count": 14,
   "metadata": {},
   "outputs": [
    {
     "data": {
      "text/html": [
       "<div>\n",
       "<style scoped>\n",
       "    .dataframe tbody tr th:only-of-type {\n",
       "        vertical-align: middle;\n",
       "    }\n",
       "\n",
       "    .dataframe tbody tr th {\n",
       "        vertical-align: top;\n",
       "    }\n",
       "\n",
       "    .dataframe thead th {\n",
       "        text-align: right;\n",
       "    }\n",
       "</style>\n",
       "<table border=\"1\" class=\"dataframe\">\n",
       "  <thead>\n",
       "    <tr style=\"text-align: right;\">\n",
       "      <th></th>\n",
       "      <th>description</th>\n",
       "    </tr>\n",
       "  </thead>\n",
       "  <tbody>\n",
       "    <tr>\n",
       "      <th>6963</th>\n",
       "      <td>b keep your style fresh without the hassle of ...</td>\n",
       "    </tr>\n",
       "    <tr>\n",
       "      <th>4794</th>\n",
       "      <td>b sometimes you ve get to pull out the big gun...</td>\n",
       "    </tr>\n",
       "    <tr>\n",
       "      <th>1906</th>\n",
       "      <td>b wild planet be commit to provide the fine ta...</td>\n",
       "    </tr>\n",
       "    <tr>\n",
       "      <th>3866</th>\n",
       "      <td>b covergirl clump crusher water resistant masc...</td>\n",
       "    </tr>\n",
       "    <tr>\n",
       "      <th>4145</th>\n",
       "      <td>b campbells condense healthy request bean with...</td>\n",
       "    </tr>\n",
       "  </tbody>\n",
       "</table>\n",
       "</div>"
      ],
      "text/plain": [
       "                                            description\n",
       "6963  b keep your style fresh without the hassle of ...\n",
       "4794  b sometimes you ve get to pull out the big gun...\n",
       "1906  b wild planet be commit to provide the fine ta...\n",
       "3866  b covergirl clump crusher water resistant masc...\n",
       "4145  b campbells condense healthy request bean with..."
      ]
     },
     "execution_count": 14,
     "metadata": {},
     "output_type": "execute_result"
    }
   ],
   "source": [
    "# Clean reviews\n",
    "clean_reviews = clean_all(reviews, 'description')\n",
    "\n",
    "clean_reviews.head()"
   ]
  },
  {
   "cell_type": "markdown",
   "metadata": {},
   "source": [
    "## Form Bigrams and Trigrams\n",
    "\n",
    "### Compute PMI Scores"
   ]
  },
  {
   "cell_type": "code",
   "execution_count": 15,
   "metadata": {},
   "outputs": [],
   "source": [
    "def compute_bigram_pmi(word_frequency=50):\n",
    "    bigram_measures = nltk.collocations.BigramAssocMeasures()\n",
    "    finder = nltk.collocations.BigramCollocationFinder.from_documents([comment.split()\n",
    "                                                                   for comment in clean_reviews.description])\n",
    "    # Filter only those that occur at least 50 times\n",
    "    finder.apply_freq_filter(word_frequency)\n",
    "    bigram_scores = finder.score_ngrams(bigram_measures.pmi)\n",
    "    \n",
    "    # Calculate pmi scores\n",
    "    bigram_pmi = pd.DataFrame(bigram_scores)\n",
    "    bigram_pmi.columns = ['bigram', 'pmi']\n",
    "    bigram_pmi.sort_values(by='pmi', axis = 0, ascending = False, inplace = True)\n",
    "\n",
    "    return bigram_pmi\n",
    "\n",
    "def compute_trigram_pmi(word_frequency=50):\n",
    "    trigram_measures = nltk.collocations.TrigramAssocMeasures()\n",
    "    finder = nltk.collocations.TrigramCollocationFinder.from_documents([comment.split()\n",
    "                                                                    for comment in clean_reviews.description])\n",
    "    # Filter only those that occur at least 50 times\n",
    "    finder.apply_freq_filter(word_frequency)\n",
    "    trigram_scores = finder.score_ngrams(trigram_measures.pmi)\n",
    "    \n",
    "    # Calculate pmi scores\n",
    "    trigram_pmi = pd.DataFrame(trigram_scores)\n",
    "    trigram_pmi.columns = ['trigram', 'pmi']\n",
    "    trigram_pmi.sort_values(by='pmi', axis = 0, ascending = False, inplace = True)\n",
    "    \n",
    "    return trigram_pmi"
   ]
  },
  {
   "cell_type": "code",
   "execution_count": 16,
   "metadata": {},
   "outputs": [],
   "source": [
    "# Compute pmi scores\n",
    "bigram_pmi = compute_bigram_pmi()\n",
    "\n",
    "trigram_pmi = compute_trigram_pmi()"
   ]
  },
  {
   "cell_type": "code",
   "execution_count": 17,
   "metadata": {},
   "outputs": [],
   "source": [
    "# Filter for bigrams with only noun-type structures\n",
    "def bigram_filter(bigram):\n",
    "    tag = nltk.pos_tag(bigram)\n",
    "    if tag[0][1] not in ['JJ', 'NN'] and tag[1][1] not in ['NN']:\n",
    "        return False\n",
    "    if bigram[0] in stop_word_list or bigram[1] in stop_word_list:\n",
    "        return False\n",
    "    if 'n' in bigram or 't' in bigram:\n",
    "        return False\n",
    "    if 'PRON' in bigram:\n",
    "        return False\n",
    "    return True\n"
   ]
  },
  {
   "cell_type": "code",
   "execution_count": 18,
   "metadata": {},
   "outputs": [],
   "source": [
    "# Filter for trigrams with only noun-type structures\n",
    "def trigram_filter(trigram):\n",
    "    tag = nltk.pos_tag(trigram)\n",
    "    if tag[0][1] not in ['JJ', 'NN'] and tag[1][1] not in ['JJ','NN']:\n",
    "        return False\n",
    "    if trigram[0] in stop_word_list or trigram[-1] in stop_word_list or trigram[1] in stop_word_list:\n",
    "        return False\n",
    "    if 'n' in trigram or 't' in trigram:\n",
    "         return False\n",
    "    if 'PRON' in trigram:\n",
    "        return False\n",
    "    return True"
   ]
  },
  {
   "cell_type": "markdown",
   "metadata": {},
   "source": [
    "### Set PMI Threshold Value"
   ]
  },
  {
   "cell_type": "code",
   "execution_count": 19,
   "metadata": {},
   "outputs": [],
   "source": [
    "# PMI threshold can be set to any value which makes sense - eyeball through and select threshold where n-grams stop\n",
    "# making sense. Choose top 500 ngrams, in this case, ranked by PMI that have noun like structures.\n",
    "def set_bigram_pmi_threshold(pmi_threshold=5):\n",
    "    filtered_bigram = bigram_pmi[bigram_pmi.apply(lambda bigram:\\\n",
    "                                                  bigram_filter(bigram['bigram'])\\\n",
    "                                                  and bigram.pmi > pmi_threshold, axis = 1)][:500]\n",
    "    bigrams = [' '.join(x) for x in filtered_bigram.bigram.values if len(x[0]) > 2 or len(x[1]) > 2]\n",
    "\n",
    "    return bigrams\n",
    "\n",
    "def set_trigram_pmi_threshold(pmi_threshold=5):\n",
    "    filtered_trigram = trigram_pmi[trigram_pmi.apply(lambda trigram: \\\n",
    "                                                 trigram_filter(trigram['trigram'])\\\n",
    "                                                 and trigram.pmi > pmi_threshold, axis = 1)][:500]\n",
    "\n",
    "\n",
    "    trigrams = [' '.join(x) for x in filtered_trigram.trigram.values if len(x[0]) > 2 or len(x[1]) > 2 and len(x[2]) > 2]\n",
    "\n",
    "    return trigrams"
   ]
  },
  {
   "cell_type": "code",
   "execution_count": 20,
   "metadata": {},
   "outputs": [],
   "source": [
    "bigrams = set_bigram_pmi_threshold()\n",
    "\n",
    "trigrams = set_trigram_pmi_threshold()"
   ]
  },
  {
   "cell_type": "code",
   "execution_count": 21,
   "metadata": {},
   "outputs": [
    {
     "data": {
      "text/plain": [
       "['duncan hine',\n",
       " 'united state',\n",
       " 'project verify',\n",
       " 'drug administration',\n",
       " 'individually wrap',\n",
       " 'fructose corn',\n",
       " 'gmo project',\n",
       " 'fatty acid',\n",
       " 'amino acid',\n",
       " 'sea salt']"
      ]
     },
     "execution_count": 21,
     "metadata": {},
     "output_type": "execute_result"
    }
   ],
   "source": [
    "# Bigram Sample\n",
    "bigrams[:10]"
   ]
  },
  {
   "cell_type": "code",
   "execution_count": 22,
   "metadata": {},
   "outputs": [
    {
     "data": {
      "text/plain": [
       "['gmo project verify',\n",
       " 'fructose corn syrup',\n",
       " 'diagnose treat cure',\n",
       " 'non gmo project',\n",
       " 'high fructose corn',\n",
       " 'wellness complete health',\n",
       " 'dry cat food',\n",
       " 'dry dog food',\n",
       " 'food grain free']"
      ]
     },
     "execution_count": 22,
     "metadata": {},
     "output_type": "execute_result"
    }
   ],
   "source": [
    "# Trigram Sample\n",
    "trigrams[:10]"
   ]
  },
  {
   "cell_type": "code",
   "execution_count": 23,
   "metadata": {},
   "outputs": [],
   "source": [
    "# Concatenate n-grams\n",
    "def replace_ngram(x):\n",
    "    for gram in trigrams:\n",
    "        x = x.replace(gram, '_'.join(gram.split()))\n",
    "    for gram in bigrams:\n",
    "        x = x.replace(gram, '_'.join(gram.split()))\n",
    "    return x"
   ]
  },
  {
   "cell_type": "markdown",
   "metadata": {},
   "source": [
    "### Output Comments W NGrams"
   ]
  },
  {
   "cell_type": "code",
   "execution_count": 24,
   "metadata": {},
   "outputs": [],
   "source": [
    "def output_comments_w_ngrams():\n",
    "    \n",
    "    comments_w_ngrams = clean_reviews.copy()\n",
    "    \n",
    "    comments_w_ngrams.description = comments_w_ngrams.description.map(lambda x: replace_ngram(x))\n",
    "    \n",
    "    # Tokenize comments + remove stop words + remove words with less than 2 characters\n",
    "    comments_w_ngrams = comments_w_ngrams.description.map(lambda x: [word for word in x.split()\\\n",
    "                                                                     if word not in stop_word_list\\\n",
    "                                                                     and word not in english_names\\\n",
    "                                                                     and len(word) > 2])\n",
    "    return comments_w_ngrams"
   ]
  },
  {
   "cell_type": "code",
   "execution_count": 25,
   "metadata": {},
   "outputs": [],
   "source": [
    "comments_w_ngrams = output_comments_w_ngrams()"
   ]
  },
  {
   "cell_type": "code",
   "execution_count": 26,
   "metadata": {},
   "outputs": [
    {
     "data": {
      "text/plain": [
       "6963    [style, fresh, hassle, cleanup, remington, vac...\n",
       "4794    [pull, big, gun, seventh, generation, ultra, p...\n",
       "1906    [wild, planet, commit, provide, fine, tasting,...\n",
       "3866    [covergirl, clump, crusher, water, resistant, ...\n",
       "4145    [campbells, condense, healthy, request, bean, ...\n",
       "Name: description, dtype: object"
      ]
     },
     "execution_count": 26,
     "metadata": {},
     "output_type": "execute_result"
    }
   ],
   "source": [
    "comments_w_ngrams.head()"
   ]
  },
  {
   "cell_type": "markdown",
   "metadata": {},
   "source": [
    "## Filter for only nouns\n",
    "\n",
    "Filtering for nouns cleans the text for words that are more interpretable in the topic model."
   ]
  },
  {
   "cell_type": "code",
   "execution_count": 27,
   "metadata": {},
   "outputs": [],
   "source": [
    "# Filter for only nouns\n",
    "def noun_only(x):\n",
    "    pos_comment = nltk.pos_tag(x)\n",
    "    filtered = [word[0] for word in pos_comment if word[1] in ['NN']]\n",
    "    # to filter both noun and verbs\n",
    "    #filtered = [word[0] for word in pos_comment if word[1] in ['NN','VB', 'VBD', 'VBG', 'VBN', 'VBZ']]\n",
    "    return filtered"
   ]
  },
  {
   "cell_type": "code",
   "execution_count": 29,
   "metadata": {},
   "outputs": [],
   "source": [
    "#%%\n",
    "\n",
    "final_comments = comments_w_ngrams.map(noun_only)"
   ]
  },
  {
   "cell_type": "markdown",
   "metadata": {},
   "source": [
    "# LDA Model"
   ]
  },
  {
   "cell_type": "markdown",
   "metadata": {},
   "source": [
    "## Optimize for k topics\n",
    "\n",
    "To improve human interpretability, let's focus on the enchancement of the Cv measures as indicated\n",
    "[here](https://svn.aksw.org/papers/2015/WSDM_Topic_Evaluation/public.pdf). This measure assess the interpretability of\n",
    "topics given the set of words in the generated topics.\n",
    "\n",
    "If the same words start appearing across multiple topics, the number of topics is too high.\n"
   ]
  },
  {
   "cell_type": "code",
   "execution_count": 56,
   "metadata": {},
   "outputs": [],
   "source": [
    "def output_coherence_model(final_comments, starting_topic_num, ending_topic_num,\n",
    "                     lda_passes, lda_iterations, lda_chunksize):\n",
    "    # Initialize corpora dictionary of comments\n",
    "    comment_dictionary = corpora.Dictionary(final_comments)\n",
    "    \n",
    "    # Initialize document-term-matrix\n",
    "    doc_term_matrix = [comment_dictionary.doc2bow(doc) for doc in final_comments]\n",
    "    \n",
    "    # Optimize for k topics\n",
    "    # Initialize cohere value list\n",
    "    coherence = []\n",
    "    # Obtainn Coherence Models by training multiple LDA models with different topic values and parameters. \n",
    "    for k in range(starting_topic_num, ending_topic_num):\n",
    "        print('LDA Training - Number of Topics: ' + str(k))\n",
    "        lda = gensim.models.ldamodel.LdaModel\n",
    "        lda_model = lda(doc_term_matrix, num_topics=k, id2word=comment_dictionary, passes=lda_passes,\n",
    "                       iterations=lda_iterations, chunksize=lda_chunksize, eval_every=None)\n",
    "        \n",
    "        coherence_model = gensim.models.coherencemodel.CoherenceModel(model=lda_model, texts=final_comments,\n",
    "                                                        dictionary=comment_dictionary, coherence='c_v')\n",
    "        \n",
    "        coherence.append((k, coherence_model.get_coherence()))\n",
    "    \n",
    "    # Intialize x and y values for coherenence model evaluations\n",
    "    x_val = [x[0] for x in coherence]\n",
    "    y_val = [x[1] for x in coherence]\n",
    "    \n",
    "    # Plot coherence model results to determine the best number of topics using \n",
    "    # the given parameters. \n",
    "    plt.plot(x_val,y_val)\n",
    "    plt.scatter(x_val,y_val)\n",
    "    plt.title('Number of Topics vs. Coherence')\n",
    "    plt.xlabel('Number of Topics')\n",
    "    plt.ylabel('Coherence')\n",
    "    plt.xticks(x_val)\n",
    "    plt.show()\n",
    "    \n",
    "    return comment_dictionary, doc_term_matrix"
   ]
  },
  {
   "cell_type": "code",
   "execution_count": 57,
   "metadata": {},
   "outputs": [
    {
     "name": "stdout",
     "output_type": "stream",
     "text": [
      "LDA Training - Number of Topics: 5\n",
      "LDA Training - Number of Topics: 6\n",
      "LDA Training - Number of Topics: 7\n",
      "LDA Training - Number of Topics: 8\n",
      "LDA Training - Number of Topics: 9\n",
      "LDA Training - Number of Topics: 10\n",
      "LDA Training - Number of Topics: 11\n",
      "LDA Training - Number of Topics: 12\n",
      "LDA Training - Number of Topics: 13\n",
      "LDA Training - Number of Topics: 14\n",
      "LDA Training - Number of Topics: 15\n",
      "LDA Training - Number of Topics: 16\n",
      "LDA Training - Number of Topics: 17\n",
      "LDA Training - Number of Topics: 18\n",
      "LDA Training - Number of Topics: 19\n",
      "LDA Training - Number of Topics: 20\n",
      "LDA Training - Number of Topics: 21\n",
      "LDA Training - Number of Topics: 22\n",
      "LDA Training - Number of Topics: 23\n",
      "LDA Training - Number of Topics: 24\n",
      "LDA Training - Number of Topics: 25\n"
     ]
    },
    {
     "data": {
      "image/png": "[encoded data removed]",
      "text/plain": [
       "<Figure size 432x288 with 1 Axes>"
      ]
     },
     "metadata": {
      "needs_background": "light"
     },
     "output_type": "display_data"
    }
   ],
   "source": [
    "comment_dict, full_dtm = output_coherence_model(final_comments, 5, 26, 40, 200, 1000)"
   ]
  },
  {
   "cell_type": "markdown",
   "metadata": {},
   "source": [
    "## Output Best LDA Model(s)"
   ]
  },
  {
   "cell_type": "code",
   "execution_count": 58,
   "metadata": {},
   "outputs": [],
   "source": [
    "def output_best_lda_model(full_dtm, best_num_topics, num_words_per_topic, comment_dictionary, best_num_lda_passes,\n",
    "                          best_num_lda_iterations, best_num_lda_chunksize, random_state_value=0):\n",
    "    Lda = gensim.models.ldamodel.LdaModel\n",
    "    lda_model = Lda(full_dtm, num_topics=best_num_topics, id2word = comment_dictionary, passes=best_num_lda_passes,\\\n",
    "                   iterations=best_num_lda_iterations,  chunksize = best_num_lda_chunksize, eval_every = None, random_state=random_state_value)\n",
    "    \n",
    "    lda_model.show_topics(best_num_topics, num_words=num_words_per_topic, formatted=False)\n",
    "    \n",
    "    return lda_model"
   ]
  },
  {
   "cell_type": "code",
   "execution_count": 59,
   "metadata": {},
   "outputs": [],
   "source": [
    "best_lda_model = output_best_lda_model(full_dtm, 11, 10, comment_dict, 40, 200, 1000)"
   ]
  },
  {
   "cell_type": "markdown",
   "metadata": {},
   "source": [
    "## Relevancy - Topic Modeling Visualiztion"
   ]
  },
  {
   "cell_type": "code",
   "execution_count": 63,
   "metadata": {},
   "outputs": [
    {
     "name": "stderr",
     "output_type": "stream",
     "text": [
      "c:\\users\\donal\\anaconda3\\envs\\topic-modeling-optimization\\lib\\site-packages\\ipykernel\\ipkernel.py:283: DeprecationWarning: `should_run_async` will not call `transform_cell` automatically in the future. Please pass the result to `transformed_cell` argument and any exception that happen during thetransform in `preprocessing_exc_tuple` in IPython 7.17 and above.\n",
      "  and should_run_async(code)\n"
     ]
    },
    {
     "data": {
      "text/html": [
       "\n",
       "<link rel=\"stylesheet\" type=\"text/css\" href=\"https://cdn.jsdelivr.net/gh/bmabey/pyLDAvis@3.2.2/pyLDAvis/js/ldavis.v1.0.0.css\">\n",
       "\n",
       "\n",
       "<div id=\"ldavis_el179217026376516647785810101\"></div>\n",
       "<script type=\"text/javascript\">\n",
       "\n",
       "var ldavis_el179217026376516647785810101_data = {\"mdsDat\": {\"x\": [0.18672165478930858, -0.22081328136532347, -0.04342276170837083, -0.14980953246845588, 0.10648892263398037, 0.1212755422384373, -0.09092333587115105, -0.18560452317426124, 0.1019814244190287, 0.1433112617935008, 0.030794628713306738], \"y\": [0.12593112753635471, -0.00643679235329541, 0.10219919993645972, 0.004290912674716435, 0.06860465940864788, 0.06730663568339736, 0.10185495596030836, 0.000991083728683497, -0.19733274078673618, 0.022049064468663122, -0.2894581062571996], \"topics\": [1, 2, 3, 4, 5, 6, 7, 8, 9, 10, 11], \"cluster\": [1, 1, 1, 1, 1, 1, 1, 1, 1, 1, 1], \"Freq\": [16.073061896818814, 14.889571830244675, 12.306559094720342, 8.790360914186799, 8.715776458572263, 7.970666597508577, 7.307860478199618, 7.029769551298017, 6.194523553480219, 6.184709008141496, 4.537140616829182]}, \"tinfo\": {\"Term\": [\"hair\", \"snack\", \"coffee\", \"skin\", \"flavor\", \"tea\", \"dog\", \"bar\", \"food\", \"protection\", \"cat\", \"taste\", \"eye\", \"cat_food\", \"health\", \"grain\", \"relief\", \"chocolate\", \"rice\", \"family\", \"help\", \"day\", \"support\", \"fruit\", \"conditioner\", \"design\", \"cracker\", \"use\", \"chip\", \"protein\", \"hair\", \"conditioner\", \"shampoo\", \"lip\", \"shine\", \"makeup\", \"moisturizer\", \"cleanser\", \"allergy\", \"hydrate\", \"paraben\", \"sensitive_skin\", \"hair_color\", \"breakage\", \"healthy_look\", \"pore\", \"tone\", \"bath\", \"strand\", \"body_lotion\", \"wrinkle\", \"tresemm\", \"spf\", \"gloss\", \"massage\", \"collagen\", \"moisturize\", \"rash\", \"avalon\", \"lotion\", \"skin\", \"damage\", \"soap\", \"face\", \"moisture\", \"treatment\", \"beauty\", \"rinse\", \"dermatologist\", \"gel\", \"repair\", \"week\", \"formula\", \"oil\", \"look\", \"color\", \"cream\", \"test\", \"use\", \"help\", \"step\", \"care\", \"feel\", \"product\", \"baby\", \"day\", \"body\", \"ingredient\", \"crunch\", \"peanut_butter\", \"cheddar\", \"dip\", \"chocolate\", \"potato_chip\", \"iced_tea\", \"chip\", \"pantry\", \"mustard\", \"fruity\", \"tortilla\", \"pellegrino\", \"sandwich\", \"afternoon\", \"toast\", \"cane\", \"tran\", \"snicker\", \"game\", \"cheez\", \"cheesy\", \"portion\", \"puff\", \"fudge\", \"raisin\", \"syrup\", \"holiday\", \"household\", \"snack\", \"bar\", \"spicy\", \"grab\", \"caramel\", \"dark_chocolate\", \"bacon\", \"ice\", \"spread\", \"lunch\", \"crispy\", \"flavor\", \"fruit\", \"taste\", \"crunchy\", \"pack\", \"bag\", \"mix\", \"enjoy\", \"fun\", \"sugar\", \"juice\", \"party\", \"treat\", \"variety\", \"meal\", \"corn\", \"family\", \"blend\", \"time\", \"ingredient\", \"way\", \"experience\", \"size\", \"create\", \"fever\", \"intend\", \"statement\", \"vitamin_d\", \"diagnose_treat_cure\", \"magnesium\", \"hershey\", \"brain\", \"amino_acid\", \"steel\", \"infant\", \"valley\", \"freeze\", \"pac\", \"reliever\", \"begin\", \"banana\", \"smoothie\", \"soak\", \"sell\", \"breed\", \"joint\", \"digestion\", \"strap\", \"metabolism\", \"immune\", \"gummie\", \"chia\", \"exercise\", \"infusion\", \"cell\", \"calcium\", \"potassium\", \"supplement\", \"disease\", \"help_support\", \"energy\", \"reducer\", \"vitamin\", \"milk_chocolate\", \"protein\", \"muscle\", \"study\", \"toddler\", \"coconut\", \"ounce\", \"nutrition\", \"support\", \"health\", \"milk\", \"sodium\", \"drug_administration\", \"level\", \"source\", \"gram\", \"food\", \"body\", \"product\", \"help\", \"prevent\", \"contain\", \"oil\", \"ingredient\", \"water\", \"day\", \"formula\", \"use\", \"flavor\", \"blend\", \"year\", \"boiron\", \"knorr\", \"commit\", \"tender\", \"peppermint\", \"stomach\", \"battery\", \"cavity\", \"crocker\", \"bathroom\", \"partner\", \"car\", \"manufacturing\", \"clorox\", \"service\", \"toilet\", \"practice\", \"nausea\", \"stimulate\", \"staff\", \"sickness\", \"jason\", \"kashrut\", \"harvest\", \"distributor\", \"manufacturer\", \"audubon\", \"regulation\", \"pesticide\", \"accord\", \"soup\", \"inspiration\", \"rice\", \"raspberry\", \"difference\", \"bleach\", \"dish\", \"family\", \"grow\", \"company\", \"kitchen\", \"chef\", \"chicken\", \"pasta\", \"dinner\", \"medicine\", \"year\", \"product\", \"nature\", \"food\", \"world\", \"ingredient\", \"roll\", \"quality\", \"inspire\", \"farm\", \"health\", \"use\", \"sauce\", \"home\", \"care\", \"create\", \"flavor\", \"taste\", \"variety\", \"coffee\", \"lash\", \"curl\", \"toothpaste\", \"mascara\", \"dandruff\", \"shoulder\", \"cap\", \"single_serve\", \"essence\", \"popcorn\", \"lime\", \"lense\", \"price\", \"maine\", \"salty\", \"tom\", \"reaction\", \"radiant\", \"arabica\", \"purity\", \"pencil\", \"electrolyte\", \"certify_organic\", \"fluid\", \"project\", \"colgate\", \"avery\", \"injure\", \"movie\", \"trade\", \"chili\", \"eye\", \"foot\", \"taco\", \"bean\", \"applicator\", \"roast\", \"head\", \"build\", \"label\", \"contact\", \"note\", \"cup\", \"brush\", \"use\", \"volume\", \"tip\", \"water\", \"medium\", \"product\", \"farm\", \"line\", \"solution\", \"packaging\", \"blend\", \"flavor\", \"base\", \"work\", \"hand\", \"color\", \"day\", \"detergent\", \"sheet\", \"ache\", \"cough\", \"throat\", \"laundry\", \"headache\", \"clothe\", \"container\", \"pain_relief\", \"softener\", \"gas\", \"sore\", \"booster\", \"cramp\", \"complement\", \"plenty\", \"gain\", \"cocktail\", \"pod\", \"freezer\", \"plate\", \"bloat\", \"lozenge\", \"duncan_hine\", \"vibrancy\", \"pink\", \"biotin\", \"pak\", \"relentless\", \"symptom\", \"lemon\", \"relief\", \"edge\", \"pain\", \"stain\", \"medication\", \"doctor\", \"pocket\", \"fabric\", \"cold\", \"liquid\", \"tablet\", \"strength\", \"scent\", \"medicine\", \"product\", \"use\", \"power\", \"work\", \"water\", \"brownie\", \"contain\", \"bake\", \"help\", \"color\", \"time\", \"dog\", \"cat\", \"cat_food\", \"dog_food\", \"wellness\", \"bandage\", \"wellness_complete_health\", \"dry_cat_food\", \"grain_free\", \"dry_dog_food\", \"sensitivity\", \"dog_treat\", \"tape\", \"ranch\", \"dha\", \"mayonnaise\", \"cat_food_wellness\", \"keyword\", \"gum\", \"hammer\", \"greenie\", \"burger\", \"indoor\", \"arm\", \"wound\", \"bai\", \"vitality\", \"pot\", \"refreshment\", \"multigrain\", \"band\", \"chew\", \"core\", \"wet\", \"adult\", \"health\", \"aid\", \"food\", \"ingredient\", \"chicken\", \"meat\", \"guarantee\", \"recipe\", \"brand\", \"treat\", \"bone\", \"balance\", \"nutrition\", \"love\", \"nutrient\", \"support\", \"help\", \"cereal\", \"almond\", \"breakfast\", \"barilla\", \"quaker\", \"granola\", \"oat\", \"bread\", \"chunk\", \"shop\", \"flour\", \"kellogg\", \"cluster\", \"entre\", \"bran\", \"olay\", \"parma\", \"trident\", \"curiosity\", \"characterize\", \"courage\", \"krill\", \"frost\", \"wellbee\", \"dentist\", \"nation\", \"consistency\", \"mccormick\", \"pizza\", \"shortbread\", \"grain\", \"good_source\", \"degree\", \"chewy\", \"wheat\", \"bakery\", \"bit\", \"tradition\", \"pepper\", \"dairy\", \"pasta\", \"peanut\", \"simple\", \"eat\", \"customer\", \"nut\", \"sauce\", \"food\", \"fiber\", \"box\", \"value\", \"milk\", \"day\", \"help\", \"contain\", \"sugar\", \"start\", \"recipe\", \"baby\", \"taste\", \"ingredient\", \"product\", \"image\", \"body_wash\", \"deodorant\", \"div_class\", \"green_tea\", \"incontinence\", \"lipton\", \"discreet\", \"mouthwash\", \"div\", \"floss\", \"defense\", \"bladder\", \"antiperspirant\", \"wetness\", \"jpg\", \"hostess\", \"brew\", \"width\", \"https\", \"img\", \"src\", \"indulgence\", \"alt\", \"vision\", \"div_div\", \"tea\", \"motionsense\", \"leftimage\", \"rescue\", \"mint\", \"amazon\", \"sweat\", \"odor\", \"breath\", \"day\", \"protection\", \"woman\", \"man\", \"confidence\", \"moment\", \"cake\", \"mouth\", \"body\", \"hour\", \"experience\", \"year\", \"product\", \"world\", \"line\", \"brand\", \"feel\", \"pad\", \"fit\", \"liner\", \"material\", \"green_superfood\", \"leak\", \"tampon\", \"compression\", \"leakage\", \"remover\", \"removal\", \"absorbent\", \"leg\", \"toothbrush\", \"dream\", \"wrist\", \"secure\", \"neck\", \"huggie\", \"farmer\", \"injury\", \"adventure\", \"cushion\", \"stabilizer\", \"brace\", \"hemorrhoid\", \"shareholder\", \"waterproof\", \"ace\", \"maca\", \"grass\", \"diaper\", \"comfort\", \"absorbency\", \"soda\", \"design\", \"industry\", \"protection\", \"size\", \"support\", \"length\", \"enzyme\", \"sport\", \"help\", \"period\", \"place\", \"feature\", \"woman\", \"technology\", \"baby\", \"layer\", \"day\", \"shape\", \"brand\", \"provide\", \"food\", \"use\", \"body\", \"salon\", \"biscuit\", \"stuff\", \"jerky\", \"knee\", \"dryer\", \"futuro\", \"apply\", \"mist\", \"pepperidge\", \"comb\", \"smoke\", \"goji\", \"impurity\", \"sausage\", \"razor\", \"circle\", \"nexxus\", \"toe\", \"barbeque\", \"silk\", \"seltzer\", \"durability\", \"heel\", \"brightener\", \"blade\", \"sacrifice\", \"run\", \"bear\", \"inner\", \"beef\", \"cracker\", \"heat\", \"sit\", \"dessert\", \"proof\", \"play\", \"stick\", \"sensation\", \"sheer\", \"style\", \"air\", \"twist\", \"machine\", \"thing\", \"baker\", \"refill\", \"craft\", \"prove\", \"work\", \"feature\", \"shape\", \"man\", \"home\", \"crisp\", \"savory\", \"meat\", \"quality\", \"time\", \"variety\", \"day\", \"oil\"], \"Freq\": [850.0, 748.0, 488.0, 707.0, 1293.0, 368.0, 351.0, 473.0, 890.0, 394.0, 269.0, 747.0, 303.0, 254.0, 489.0, 283.0, 285.0, 331.0, 337.0, 492.0, 1061.0, 701.0, 350.0, 492.0, 293.0, 311.0, 188.0, 1248.0, 266.0, 464.0, 849.4829085884999, 293.05289288995994, 240.01371722821526, 117.5858445452881, 115.96727747166514, 108.023840911636, 98.40824965774927, 87.50989682135167, 73.96462522711569, 73.2413281792782, 67.78424672686769, 56.03133071611497, 59.4534680179763, 50.47064170190578, 50.132192144367764, 49.78811941816369, 47.881883350415315, 45.07078798857654, 43.986571346091836, 42.37688272154627, 42.14536844639435, 42.07796739008875, 41.328288535635245, 40.052137119189155, 40.0087907288439, 38.88690066730103, 38.39700133919282, 38.21372316626967, 37.931315139930064, 137.06787832770843, 682.647025725253, 114.49419743662106, 132.26295767025215, 148.6168344952751, 242.31972346252985, 138.97408723039078, 105.72552239100494, 133.4737227727891, 68.26187650015706, 119.43989652121286, 58.836970427194814, 86.14650026787268, 338.60240630948863, 366.29588719328734, 221.13463019614363, 276.5458232026305, 171.94177434215612, 113.08983596358453, 456.55381114820227, 404.7859967962623, 102.06262110901203, 160.43106658754505, 110.04653361741035, 163.24656269007897, 112.16926620631281, 128.72880069114805, 112.16178675813542, 113.72692920191987, 151.51362313939003, 119.44954350977292, 91.51452095952156, 83.99684058910839, 328.3783168016728, 65.4593421101924, 59.889567973367285, 261.45927494836377, 48.50553059343836, 47.19351497037539, 45.21637976278262, 44.39905477336967, 42.32650703461992, 42.322530988220656, 40.24161593663702, 40.22087590557757, 37.67499829721942, 37.598736217390524, 33.42463824954198, 33.12213577428163, 33.00008205459288, 32.75837576137948, 28.872736185069833, 28.067978941474802, 28.06541841792338, 27.433526921577293, 26.651151715545197, 25.310555113381202, 23.906287244985975, 721.6275250405888, 451.9398807869361, 70.57842216054921, 76.7172616470561, 69.1694505621574, 65.06234142668123, 36.99375223757869, 98.89053160918127, 66.61501690458563, 75.61414364319997, 104.65072397656853, 974.0607049187483, 382.5129099200164, 536.4691844504875, 123.65276140394012, 293.4047106955523, 237.513560673656, 199.46294762181765, 217.4468571341882, 137.21445171540944, 195.71722671207192, 104.07636142582949, 95.67605747276484, 197.39932921089914, 181.307329945327, 135.44333275162654, 109.12506797140442, 179.10983452906626, 141.5239659386303, 160.47036388126287, 194.43234299212796, 127.14645633464399, 108.4333449456188, 111.4976017003517, 107.7220604426115, 65.41770546338013, 62.60335865912571, 54.87965521989382, 53.873516652360564, 51.842592941833715, 45.97419776177692, 45.62375376605046, 41.16694144043275, 40.48568105824856, 38.119500309997065, 36.70554633497519, 36.07454746935532, 33.58677746022419, 33.05904366922567, 31.914215346902036, 26.960481664935234, 26.382612886467808, 25.589674111454006, 25.437965726036868, 23.934919668356763, 23.666090405731367, 23.56168310270062, 22.824153671832224, 22.790018548471373, 22.703119059042127, 22.59742393247847, 21.837259659730858, 21.54384215398588, 21.543992948935227, 21.38445015925328, 60.77455911208024, 141.42523756940548, 38.9734989065685, 126.3740574199094, 68.66166187849169, 59.144801965068616, 131.2291694717295, 32.799052377252096, 129.58800737337666, 64.06412146635452, 307.68783844781024, 86.29974845002369, 40.37055691416266, 40.56244782039195, 115.95289926129442, 117.86088868932448, 134.24859047399158, 162.98424241553926, 201.43680197020615, 98.79794584126051, 72.77120210214501, 51.84747731157226, 76.16492736763558, 128.9792394964958, 84.38347396615606, 220.50020933604512, 135.36612317720855, 206.1510472734844, 186.82422366371895, 66.71617823960847, 115.56113744944751, 120.33522928158754, 111.76184656778153, 91.3099817062869, 94.68736565243928, 88.87391183220235, 94.71030035094192, 95.05988117557902, 73.76915267725637, 69.91630358944384, 106.38218729193117, 91.53456056804795, 55.615430035170675, 55.22774757251345, 47.41861394418066, 44.72230309180721, 43.03625950790059, 42.954825639139834, 42.86358642738794, 38.8375621171606, 36.549133724444815, 33.96465825629808, 33.55986101314723, 31.724575651941382, 29.972469807680312, 29.256726815164757, 28.998455071216842, 28.121369616756184, 28.07577229575067, 27.660570494203668, 27.261502938851173, 23.25968742620574, 20.460257050042152, 19.53250446655215, 18.863166002571173, 18.536192479170698, 17.93821017032069, 17.55483611594745, 17.227216331304376, 16.991452306495216, 148.6280420630708, 29.759971187604673, 252.23452493756088, 29.318762942260715, 30.798448625944737, 29.193623490384663, 62.1330712345413, 246.28305810864023, 76.10291176859353, 122.78284168419476, 75.43135472195597, 42.47970229709143, 102.48127519651602, 105.98468462970253, 66.76882940862772, 82.1119131807824, 134.68824153436415, 236.52014551080842, 82.24967329761446, 193.78311238652077, 108.95411885412005, 161.0672586518194, 48.360332951191246, 98.51719292170948, 61.67686527139498, 62.483102170551234, 83.02033859136397, 105.91146149764849, 58.376352155223614, 65.26011891925124, 71.17348357192249, 64.67981098875244, 85.69003140405188, 71.87337211717232, 65.83061160237206, 487.649950649933, 79.95865567810817, 73.23632159243473, 69.21817803697184, 53.05423527763529, 43.162103311847524, 41.04365983977985, 38.33715907220438, 37.84593042884635, 35.51074200935497, 33.82631627595349, 29.43625887596185, 28.716233260499504, 28.16307257913107, 27.269413353256937, 26.940387432774966, 26.512401844167908, 25.463907613092704, 25.385889841591293, 24.684466424337337, 24.671810448124557, 24.173341751643058, 24.13564633772045, 23.34148444414028, 21.162849591120377, 21.056986216863315, 20.97373910892481, 20.812380936158785, 20.750119916419475, 20.60779603726697, 51.67894925572965, 80.08348705861546, 278.4849583079317, 75.69496408832954, 30.477100599208683, 94.91974303306156, 44.71520641331463, 77.74047427516868, 78.13046983934963, 37.665960237521816, 32.730856220445595, 73.66296670325087, 48.11135845344178, 107.95547218485257, 68.52709544839067, 266.38695474807565, 54.17181076160579, 46.999724281291826, 99.56804863515724, 46.005055389205765, 127.06481291396382, 60.24567275785404, 73.91573760507737, 48.66178907747779, 45.90958194537208, 56.828834150206255, 67.9952792980007, 50.5829539911404, 53.340415010558495, 49.40510610832921, 49.52160492176256, 48.50529688819454, 102.70697358596945, 80.11143400856989, 73.90127989141259, 59.29334501057492, 58.2327606861275, 51.676355910921714, 48.28038366495419, 47.3726347734308, 44.9672549053545, 40.90042509657163, 37.16720320986953, 36.684051321909436, 35.36656193257633, 34.241041857878756, 34.01416637807003, 32.87362140742217, 31.429520551796738, 30.780194482131893, 27.55689852466411, 27.436340124642243, 26.829315917589362, 24.747040913725417, 22.67216834290811, 22.213877583587806, 22.140050830952244, 21.79667627746327, 21.705918451850863, 20.842121646867025, 20.45627459536677, 20.22790381061141, 116.23247832084205, 65.48711363899264, 257.2218719565436, 33.16680221108083, 175.05552073806587, 117.1907038577262, 38.57347015610193, 58.084173176565386, 53.21224064975807, 39.97467866082567, 50.601114903754116, 82.53090027790023, 63.755797483076734, 82.63980158590567, 72.85928135427486, 69.47184087827314, 159.94846833341896, 166.15521423299518, 78.41416859562797, 85.84264599268441, 93.7001905917257, 44.230424308677364, 80.64815418590203, 55.769117809995336, 90.23163094497028, 56.758017305109135, 49.307698576940275, 350.72791170560305, 268.4519204754715, 253.6710248425517, 146.81246055442003, 110.77011198042541, 74.00602815047219, 62.66511873324237, 54.61129417253032, 47.39667941966628, 44.01526991681999, 40.74235578321536, 40.6764508057623, 40.54195244816523, 38.013042437525925, 34.753471509313925, 34.6607195579746, 32.21235458599669, 31.268980495631208, 71.5182881657281, 30.589090453992494, 30.346372566327272, 30.244699070376456, 29.705466422208733, 28.925092698367575, 26.77761886064482, 25.671565529956997, 25.076127562437133, 24.308248941455172, 23.268106763724287, 23.236325562234477, 42.45700913870174, 68.37566069607145, 63.071668621955006, 55.057704880314695, 76.0506222104854, 195.2208357224249, 76.2205885453912, 168.49674612944904, 159.993999489373, 76.28632060873548, 66.50909817903691, 44.62111566688616, 75.60161367406704, 93.23743651868516, 80.3640387595475, 51.54613222359811, 51.89383779429871, 53.52568175969947, 51.12320901558695, 45.77669653872593, 48.28022934540343, 45.82768561579715, 163.41499200319078, 151.39836770558347, 126.5411792255512, 74.43690611165543, 71.11921423426041, 59.04962044903757, 56.98338271579543, 40.05883341502561, 38.699590818952586, 36.034894903875255, 35.386088976540535, 28.283482658297334, 26.746735843931084, 23.49664491374005, 22.040778051585253, 21.9982400877364, 20.836085569116136, 19.91641843421261, 19.771018675833798, 19.184423679056724, 19.184423679056724, 18.574904280106754, 18.165526377297514, 17.53272614597761, 17.06276501051053, 17.05275724264478, 16.597644395136022, 16.332242510085198, 15.58092032749487, 14.570366462598017, 252.9608711986094, 51.873314266885494, 30.031523273636115, 43.813888906200724, 129.53737106521697, 54.07193413564347, 39.79564931786747, 43.66813271762487, 41.77481115397296, 56.423430876247025, 111.40811146046818, 48.01954345247264, 45.731693264053696, 86.52411150894753, 58.915163097707854, 53.17405874695336, 72.05143761293853, 214.60500582033922, 72.4937120427667, 71.72236541368996, 48.01775734115193, 58.121226714809865, 86.411447883999, 95.18373363876194, 77.7388754570255, 63.66585882028538, 56.618786306908625, 59.629171989087595, 58.00200873457133, 61.555023748722604, 57.08111191548802, 55.48674419943488, 141.62534491528203, 99.12888715554583, 80.95785040574806, 64.47938780572521, 55.11065584440099, 53.23758996041479, 52.89564676464988, 49.68012998514153, 47.75390419034247, 46.82814770765417, 45.3882305777007, 43.49914657577115, 39.47741942430812, 37.48384075885402, 36.62025481454497, 34.52208028177105, 33.71974357232555, 32.81094047024047, 31.346242369586413, 29.895130006002823, 28.364633734376476, 28.23590774145332, 28.027447116989958, 27.02797239390182, 23.377165876622545, 22.70968845907305, 354.461867936176, 21.6294077401291, 21.586427535207473, 21.18629041226081, 110.1653773980839, 42.038056913886905, 62.48477267381596, 125.0038010874428, 64.96183676720581, 192.81588570847194, 130.7075911531153, 77.45415407427333, 66.30044889807922, 37.39174181535884, 50.122805855075214, 49.04209938223385, 43.678804251117874, 69.54384906808156, 58.416383593154556, 57.8964892274186, 55.648651730348746, 63.84833677490614, 50.41748338865609, 49.88973002474836, 50.98668494141199, 47.88998141756794, 125.76269040901522, 91.22529393189623, 82.03806816048164, 68.1995685365862, 61.753107990721354, 54.240778428861475, 42.185263630826825, 40.47340294024603, 32.470988261250994, 32.407341341192215, 30.379047411114055, 28.16654604724121, 27.859563854476175, 27.58780053005045, 27.004948816150367, 26.452066937630235, 24.754244317937754, 24.09543754662149, 23.803874932589697, 23.7952932079439, 23.750506570267458, 23.601134736557494, 23.570194535642074, 22.92304086139356, 22.283083919689055, 21.098412197543894, 20.56200562758554, 19.554675611092748, 19.49760871011378, 19.20382662446227, 50.846063486058085, 72.61566898805499, 145.061320178377, 33.24312397119056, 64.2593548555487, 183.52203865927697, 42.8249278949551, 188.9703014258787, 133.1141239576012, 137.82124347903166, 34.00828419889672, 29.094854860281156, 42.36505476905166, 173.60485410721125, 37.714202511650846, 57.76635857506376, 75.59697337018096, 57.695530601616845, 57.69815076277545, 70.64546807260102, 44.917774651875604, 78.97948296120433, 47.06057519939569, 61.39457795984335, 42.37452497919672, 53.48238811223399, 48.24022262314895, 42.37458421156334, 58.11159292815028, 48.37044232759779, 39.54962855975946, 36.3010753890687, 34.31174055924606, 31.657671013578312, 27.300840682896546, 26.7665116631496, 23.995483917702085, 23.63361053929834, 23.16562181976959, 23.014056957253672, 22.086248725235446, 19.796101249911985, 19.414682864741714, 19.02374950047141, 18.771592969049472, 17.629630610382907, 17.485585712544573, 14.753696546003624, 13.138911935107663, 12.763051729132293, 12.759801683215384, 12.571715659818, 12.564242982477788, 12.443910767275044, 12.361230774942154, 11.914330929843173, 11.758534489650934, 11.723406388167593, 105.27662223658731, 163.06907931502494, 119.46489897754292, 25.287478773546628, 55.88516194483919, 31.437649422987967, 34.1039037652628, 69.1507783833689, 19.386656810116516, 24.928690574397077, 104.34431020519386, 45.74706865406229, 36.737959264898784, 34.46928918699319, 64.8182665244555, 30.702487247332726, 22.611375884737903, 42.77616627981528, 25.767580719658334, 66.69675472334409, 59.1631917411798, 41.23321624652517, 40.42159428045508, 48.2485688008041, 36.73735603183831, 31.071354039522284, 36.51824184691096, 43.51888931730474, 44.63876593334838, 41.158410234882034, 41.38738063456015, 34.231022352395854], \"Total\": [850.0, 748.0, 488.0, 707.0, 1293.0, 368.0, 351.0, 473.0, 890.0, 394.0, 269.0, 747.0, 303.0, 254.0, 489.0, 283.0, 285.0, 331.0, 337.0, 492.0, 1061.0, 701.0, 350.0, 492.0, 293.0, 311.0, 188.0, 1248.0, 266.0, 464.0, 850.3554015503735, 293.92538273758345, 240.886207445412, 118.45832960455974, 116.83979438511628, 108.89633824721105, 99.28073879122493, 88.38238759079235, 74.83721761188343, 74.11382106814065, 68.65674704624007, 56.90384608133894, 60.39744026669192, 51.34312734554328, 51.00467716331015, 50.6606019214721, 48.754377729693225, 45.94329465992455, 44.85906484512131, 43.249364459123214, 43.017877494553495, 42.95045059603419, 42.20077705823093, 40.924620215648496, 40.88130955700083, 39.759405013105784, 39.26948760976429, 39.08623170775985, 38.80379951538944, 140.30093565402026, 707.1827911236419, 118.08021274898188, 138.86251969463314, 157.08869736392904, 275.9489130656108, 154.8209123239178, 116.92095854249517, 154.20676828458002, 73.28811673752809, 137.36893406515284, 63.67011435869989, 100.95158573969628, 536.3699326562553, 628.471538353191, 346.7788237744192, 470.6653246442745, 269.39159182252314, 156.84171980541328, 1248.2450454684895, 1061.6093111678845, 145.6652361345885, 375.0174234883137, 224.42490588755777, 1060.3754411529806, 304.31123627166266, 701.1328176849784, 417.2530966206358, 842.1701316649518, 152.39194800436294, 120.32785873684402, 92.39285391774139, 84.87516603783747, 331.9663042728285, 66.33764568243647, 60.76788457606972, 266.07770366355567, 49.383878599484525, 48.07182852071563, 46.09472042006469, 45.27737884389875, 43.20481732635241, 43.20085070486486, 41.11993947517905, 41.09919854528747, 38.553322302772145, 38.47705637995341, 34.3029357538467, 34.000512093573, 33.8783796565499, 33.63668922344522, 29.75104731460497, 28.94632022306445, 28.94373321806107, 28.311880822242227, 27.52950077820849, 26.188870643011406, 24.78486719764514, 748.3299716517229, 473.70381301588947, 73.22189372714693, 79.67055055472898, 72.39785224510447, 68.80679118640681, 38.5174050743141, 108.46069615911733, 71.60358321394175, 82.05025303233974, 117.0195399446159, 1293.3472413691063, 492.25089562956765, 747.6814170986652, 145.70914608187718, 411.0225038226325, 326.7726236610426, 270.8852180284623, 316.9348960855625, 182.40421703373667, 291.0024878044959, 132.70007527109473, 122.2094628241633, 413.98431197409116, 363.9505050869136, 234.19521552398578, 169.03687137436285, 492.1147588416561, 339.29546890071646, 483.93419757696324, 842.1701316649518, 407.9680039908667, 245.8407958843469, 299.60379732172294, 270.24441804287153, 66.29102418555833, 63.47663849771112, 55.75293393350268, 54.74679000244666, 52.715865200454424, 46.847478846514136, 46.49703925278702, 42.04023857811341, 41.35896108973147, 38.99289066494385, 37.578848040161915, 36.94786800500523, 34.46010123381884, 33.93239630000919, 32.787562019586986, 27.833917121858846, 27.255932753835456, 26.46295834207011, 26.31167092486043, 24.808239774213597, 24.539476336121645, 24.43501181692198, 23.6974313910392, 23.66347021867866, 23.576395014935223, 23.4706994740994, 22.7105356642172, 22.41712197155626, 22.417325160388312, 22.257824300100665, 64.4193690775437, 152.9142989001064, 41.19674463345707, 138.81083548539524, 78.70384373570216, 66.84445607132362, 163.62402185950447, 35.32993349891839, 162.96855947881846, 74.90514684799174, 464.7078485391801, 108.13650411047098, 46.26356104904263, 46.601592093127756, 174.7376975275938, 196.12507048754483, 244.50888967330093, 350.88553142176784, 489.37612707787156, 172.26775653255254, 110.98085740989156, 67.00063274848078, 127.33008561835979, 318.4634773312609, 155.95426260869692, 890.108311428069, 417.2530966206358, 1060.3754411529806, 1061.6093111678845, 118.78138451339963, 517.0797864966117, 628.471538353191, 842.1701316649518, 477.7997497815075, 701.1328176849784, 536.3699326562553, 1248.2450454684895, 1293.3472413691063, 339.29546890071646, 375.05297343690506, 107.25515381347907, 92.40752832271225, 56.48842381666317, 56.10084289665666, 48.291679431720226, 45.59536875639285, 43.909254624333514, 43.82792117641783, 43.73658114750321, 39.7105647758536, 37.42213311057694, 34.83770340589985, 34.43283388176251, 32.59758082585351, 30.845480124027898, 30.129706859334753, 29.871454044554387, 28.99436505844284, 28.948806839645584, 28.53353820743948, 28.13447738928507, 24.132676439917045, 21.333223571590064, 20.405540951362372, 19.73613730665932, 19.409236564881997, 18.811189445149395, 18.427824142264665, 18.100271333344406, 17.86445710804796, 183.4306280834673, 32.68717803905872, 337.2553196417682, 32.9160179076075, 35.30768734534905, 33.194939650446905, 85.25680447088027, 492.1147588416561, 114.5360643912973, 221.26867134030883, 116.80549920569032, 55.358930075097845, 194.02820042902775, 218.17987603485116, 108.82591938933747, 159.5993315497472, 375.05297343690506, 1060.3754411529806, 188.16567473472227, 890.108311428069, 326.0884622840884, 842.1701316649518, 73.05170306894429, 393.30946950481615, 135.5611011170209, 172.9653004736681, 489.37612707787156, 1248.2450454684895, 146.6936250168167, 234.61162486207334, 375.0174234883137, 270.24441804287153, 1293.3472413691063, 747.6814170986652, 363.9505050869136, 488.5242555983522, 80.83294123571947, 74.11066692672945, 70.0925103884093, 53.92852943417314, 44.03640451280127, 41.91796264716956, 39.21148687105664, 38.720271126651916, 36.38518010219687, 34.700614416758526, 30.31062090604498, 29.59052236990788, 29.037417961996724, 28.143879375638036, 27.814935997174075, 27.386711251910448, 26.33821806283245, 26.26025044080144, 25.55875322312501, 25.546166054721958, 25.047658931967675, 25.01001867425954, 24.215872834968476, 22.03728124391129, 21.931283525571, 21.848052766344175, 21.686674190139883, 21.624453707688215, 21.482121379860136, 53.87445898186641, 84.60215417864455, 303.25989490734526, 81.08408987827113, 32.302215076461444, 110.96906961555531, 49.565792570770626, 91.75547572168321, 98.61874353892435, 42.71690984597232, 36.11028835012993, 106.3740169698794, 63.09885024507301, 224.6080573361398, 116.6658160478611, 1248.2450454684895, 89.84658306689568, 81.90101036319314, 477.7997497815075, 85.46199339173332, 1060.3754411529806, 172.9653004736681, 301.62265201489606, 104.78742590923683, 90.58531528348414, 339.29546890071646, 1293.3472413691063, 194.0831815467877, 355.9628991645391, 213.63735444951243, 470.6653246442745, 701.1328176849784, 103.58115678330526, 80.98564099579382, 74.77545659862965, 60.16752540431954, 59.10693377974498, 52.55053171631896, 49.1545559755882, 48.246819878470305, 45.84148472267666, 41.77461079294405, 38.04137723647822, 37.55824626566124, 36.2407392508035, 35.115228257060586, 34.88833891220696, 33.74792826636659, 32.303735417793376, 31.654408177016556, 28.431101938698866, 28.310561324002812, 27.70353536999997, 25.621324921341795, 23.54633995946976, 23.088084346113273, 23.01423073267441, 22.670945426796138, 22.58013824484153, 21.716350728491516, 21.33046470709055, 21.10207012719867, 123.52583549002512, 69.25792155852504, 285.60785905213123, 34.90059947521942, 197.30202646417882, 133.15833789929403, 41.36766036303511, 65.47917521033759, 60.24006911550491, 44.557458562725046, 59.21887424892973, 111.24655480879935, 94.50527566543565, 174.2559077023499, 144.82525547561903, 159.5993315497472, 1060.3754411529806, 1248.2450454684895, 263.8638602041451, 355.9628991645391, 477.7997497815075, 64.02185810698587, 517.0797864966117, 145.32816581791258, 1061.6093111678845, 470.6653246442745, 483.93419757696324, 351.60238117994396, 269.3263799584637, 254.54548176327788, 147.68691985264465, 111.6445899077659, 74.88049013490891, 63.53957522105059, 55.48575066038974, 48.2711472484455, 44.88972795520888, 41.616853050910834, 41.550916042867954, 41.416432873734834, 38.887591124446686, 35.62798797020156, 35.53519111638627, 33.08681122629882, 32.14343738369853, 73.55282854715966, 31.463605208276654, 31.223290210357643, 31.11920960515276, 30.579946136689376, 29.799676645134777, 27.652090193066957, 26.54603255995993, 25.95065356169012, 25.18280674832133, 24.14269896599572, 24.11092064366475, 48.69332734677843, 90.23954101204461, 83.38325694323213, 73.55162477019965, 123.64026545462681, 489.37612707787156, 134.03439811760558, 890.108311428069, 842.1701316649518, 194.02820042902775, 164.19666377379608, 73.91743345893578, 278.20542302551445, 472.4825538066255, 413.98431197409116, 114.88197907588321, 134.77692888559727, 244.50888967330093, 181.6508092867948, 88.84601529390058, 350.88553142176784, 1061.6093111678845, 164.29144613140159, 152.27486787270655, 127.41764913465114, 75.31335227046641, 71.99566381264952, 59.92608439041516, 57.859853143448184, 40.93530596973558, 39.57610932165671, 36.911365457032126, 36.26255585360296, 29.159938480676367, 27.62320495029927, 24.373095415669624, 22.91723138280882, 22.874741860575718, 21.712530596930062, 20.792883735880622, 20.647464671856863, 20.060868429229483, 20.060868429229483, 19.451386573943527, 19.042005978476986, 18.409170882609153, 17.9393342421427, 17.92923049706613, 17.474109544288876, 17.20871938897131, 16.457392255937645, 15.446860701681327, 283.23377728602685, 57.88761379457562, 32.883435549139584, 49.15962689428539, 162.23243607020837, 65.28161582005377, 47.24943096712413, 55.3228335543293, 55.401221194414596, 85.44143967561557, 218.17987603485116, 73.06033802902405, 70.52885087931017, 185.83349355297335, 105.61480055175095, 90.19573008842279, 146.6936250168167, 890.108311428069, 162.2662349913784, 164.36391991365875, 90.67399805836068, 172.26775653255254, 701.1328176849784, 1061.6093111678845, 517.0797864966117, 291.0024878044959, 180.94829701104166, 278.20542302551445, 304.31123627166266, 747.6814170986652, 842.1701316649518, 1060.3754411529806, 142.50140929907968, 100.00496286125798, 81.8339117213231, 65.3554412565987, 55.98675045085925, 54.11367310338638, 53.77170829273957, 50.55621774599064, 48.62996632316675, 47.70420135298574, 46.26429362480812, 44.37525096788481, 40.35349458446028, 38.35989803416222, 37.4963605270891, 35.3981336945347, 34.595798057075285, 33.6870597765136, 32.22230638229965, 30.771183320836744, 29.240686972065138, 29.111961038978034, 28.90354821930093, 27.904025824801554, 24.253250953724134, 23.585741613711754, 368.3965986866258, 22.505467317766705, 22.462480930201096, 22.062409730729797, 117.53026663729656, 44.291422985738265, 67.99504043145674, 158.74164367117228, 91.457420411709, 701.1328176849784, 394.70160689289344, 162.40801463575886, 129.20813116835043, 52.85562925872139, 110.4888335245366, 117.84761322362122, 83.99472144406845, 417.2530966206358, 242.75531485693494, 245.8407958843469, 375.05297343690506, 1060.3754411529806, 326.0884622840884, 301.62265201489606, 472.4825538066255, 224.42490588755777, 126.63694763095569, 92.0995508479517, 82.91231603668629, 69.07383245119091, 62.62735079962095, 55.11502493092578, 43.059500535183986, 41.34764295577348, 33.34522922747197, 33.28164521686406, 31.25336248407383, 29.040794886611167, 28.733807716602293, 28.46205020159298, 27.87932024364413, 27.32630846366178, 25.628519816985108, 24.969708556147594, 24.678112651429498, 24.66963205497372, 24.624752584531407, 24.475487526875632, 24.444441436603334, 23.797283686538016, 23.157329660009612, 21.972650679068295, 21.43623770462875, 20.428946387931607, 20.371842467153662, 20.078079297500654, 54.01347794850531, 79.19768769718998, 168.83570254009805, 35.76451168627169, 75.07455224849002, 311.21268742925463, 53.407176146889974, 394.70160689289344, 299.60379732172294, 350.88553142176784, 43.33672475697986, 34.474361649482596, 65.25013168102342, 1061.6093111678845, 57.39509768507806, 143.56052312760838, 285.486909907621, 162.40801463575886, 168.66383577635816, 304.31123627166266, 102.5211981995742, 701.1328176849784, 129.4404096980158, 472.4825538066255, 124.41599920800287, 890.108311428069, 1248.2450454684895, 417.2530966206358, 58.98840571857564, 49.24727243890265, 40.426462269479494, 37.177880591245625, 35.188567808837995, 32.53450272562266, 28.17768410556269, 27.643434036097304, 24.872322546240156, 24.51040897203556, 24.042484299647445, 23.890880269430564, 22.96307299423551, 20.67297463364164, 20.29153685954571, 19.900568090499434, 19.648416805314714, 18.506448559884376, 18.36246817591498, 15.630529316259457, 14.015738831769932, 13.639910621967966, 13.636663095478456, 13.44853787185255, 13.441107324747287, 13.32072080340911, 13.238145120152126, 12.7911834293389, 12.63546358406465, 12.600321976407992, 115.50910854335416, 188.21049528894238, 139.98736841649173, 29.22379425980454, 72.29993855206493, 38.36790955369098, 43.89358907176045, 103.50506125239559, 22.673087427080326, 30.87855942469149, 191.34089343860614, 76.76130271237588, 56.98376981985301, 52.42067170166444, 143.43980769278653, 45.335978290366775, 28.19382720256621, 114.70697781998095, 37.54586460986002, 355.9628991645391, 285.486909907621, 129.4404096980158, 129.20813116835043, 234.61162486207334, 107.63231804902091, 71.5950825027387, 164.19666377379608, 393.30946950481615, 483.93419757696324, 363.9505050869136, 701.1328176849784, 628.471538353191], \"Category\": [\"Default\", \"Default\", \"Default\", \"Default\", \"Default\", \"Default\", \"Default\", \"Default\", \"Default\", \"Default\", \"Default\", \"Default\", \"Default\", \"Default\", \"Default\", \"Default\", \"Default\", \"Default\", \"Default\", \"Default\", \"Default\", \"Default\", \"Default\", \"Default\", \"Default\", \"Default\", \"Default\", \"Default\", \"Default\", \"Default\", \"Topic1\", \"Topic1\", \"Topic1\", \"Topic1\", \"Topic1\", \"Topic1\", \"Topic1\", \"Topic1\", \"Topic1\", \"Topic1\", \"Topic1\", \"Topic1\", \"Topic1\", \"Topic1\", \"Topic1\", \"Topic1\", \"Topic1\", \"Topic1\", \"Topic1\", \"Topic1\", \"Topic1\", \"Topic1\", \"Topic1\", \"Topic1\", \"Topic1\", \"Topic1\", \"Topic1\", \"Topic1\", \"Topic1\", \"Topic1\", \"Topic1\", \"Topic1\", \"Topic1\", \"Topic1\", \"Topic1\", \"Topic1\", \"Topic1\", \"Topic1\", \"Topic1\", \"Topic1\", \"Topic1\", \"Topic1\", \"Topic1\", \"Topic1\", \"Topic1\", \"Topic1\", \"Topic1\", \"Topic1\", \"Topic1\", \"Topic1\", \"Topic1\", \"Topic1\", \"Topic1\", \"Topic1\", \"Topic1\", \"Topic1\", \"Topic1\", \"Topic1\", \"Topic2\", \"Topic2\", \"Topic2\", \"Topic2\", \"Topic2\", \"Topic2\", \"Topic2\", \"Topic2\", \"Topic2\", \"Topic2\", \"Topic2\", \"Topic2\", \"Topic2\", \"Topic2\", \"Topic2\", \"Topic2\", \"Topic2\", \"Topic2\", \"Topic2\", \"Topic2\", \"Topic2\", \"Topic2\", \"Topic2\", \"Topic2\", \"Topic2\", \"Topic2\", \"Topic2\", \"Topic2\", \"Topic2\", \"Topic2\", \"Topic2\", \"Topic2\", \"Topic2\", \"Topic2\", \"Topic2\", \"Topic2\", \"Topic2\", \"Topic2\", \"Topic2\", \"Topic2\", \"Topic2\", \"Topic2\", \"Topic2\", \"Topic2\", \"Topic2\", \"Topic2\", \"Topic2\", \"Topic2\", \"Topic2\", \"Topic2\", \"Topic2\", \"Topic2\", \"Topic2\", \"Topic2\", \"Topic2\", \"Topic2\", \"Topic2\", \"Topic2\", \"Topic2\", \"Topic2\", \"Topic2\", \"Topic2\", \"Topic2\", \"Topic2\", \"Topic3\", \"Topic3\", \"Topic3\", \"Topic3\", \"Topic3\", \"Topic3\", \"Topic3\", \"Topic3\", \"Topic3\", \"Topic3\", \"Topic3\", \"Topic3\", \"Topic3\", \"Topic3\", \"Topic3\", \"Topic3\", \"Topic3\", \"Topic3\", \"Topic3\", \"Topic3\", \"Topic3\", \"Topic3\", \"Topic3\", \"Topic3\", \"Topic3\", \"Topic3\", \"Topic3\", \"Topic3\", \"Topic3\", \"Topic3\", \"Topic3\", \"Topic3\", \"Topic3\", \"Topic3\", \"Topic3\", \"Topic3\", \"Topic3\", \"Topic3\", \"Topic3\", \"Topic3\", \"Topic3\", \"Topic3\", \"Topic3\", \"Topic3\", \"Topic3\", \"Topic3\", \"Topic3\", \"Topic3\", \"Topic3\", \"Topic3\", \"Topic3\", \"Topic3\", \"Topic3\", \"Topic3\", \"Topic3\", \"Topic3\", \"Topic3\", \"Topic3\", \"Topic3\", \"Topic3\", \"Topic3\", \"Topic3\", \"Topic3\", \"Topic3\", \"Topic3\", \"Topic3\", \"Topic3\", \"Topic3\", \"Topic3\", \"Topic3\", \"Topic4\", \"Topic4\", \"Topic4\", \"Topic4\", \"Topic4\", \"Topic4\", \"Topic4\", \"Topic4\", \"Topic4\", \"Topic4\", \"Topic4\", \"Topic4\", \"Topic4\", \"Topic4\", \"Topic4\", \"Topic4\", \"Topic4\", \"Topic4\", \"Topic4\", \"Topic4\", \"Topic4\", \"Topic4\", \"Topic4\", \"Topic4\", \"Topic4\", \"Topic4\", \"Topic4\", \"Topic4\", \"Topic4\", \"Topic4\", \"Topic4\", \"Topic4\", \"Topic4\", \"Topic4\", \"Topic4\", \"Topic4\", \"Topic4\", \"Topic4\", \"Topic4\", \"Topic4\", \"Topic4\", \"Topic4\", \"Topic4\", \"Topic4\", \"Topic4\", \"Topic4\", \"Topic4\", \"Topic4\", \"Topic4\", \"Topic4\", \"Topic4\", \"Topic4\", \"Topic4\", \"Topic4\", \"Topic4\", \"Topic4\", \"Topic4\", \"Topic4\", \"Topic4\", \"Topic4\", \"Topic4\", \"Topic4\", \"Topic4\", \"Topic4\", \"Topic4\", \"Topic5\", \"Topic5\", \"Topic5\", \"Topic5\", \"Topic5\", \"Topic5\", \"Topic5\", \"Topic5\", \"Topic5\", \"Topic5\", \"Topic5\", \"Topic5\", \"Topic5\", \"Topic5\", \"Topic5\", \"Topic5\", \"Topic5\", \"Topic5\", \"Topic5\", \"Topic5\", \"Topic5\", \"Topic5\", \"Topic5\", \"Topic5\", \"Topic5\", \"Topic5\", \"Topic5\", \"Topic5\", \"Topic5\", \"Topic5\", \"Topic5\", \"Topic5\", \"Topic5\", \"Topic5\", \"Topic5\", \"Topic5\", \"Topic5\", \"Topic5\", \"Topic5\", \"Topic5\", \"Topic5\", \"Topic5\", \"Topic5\", \"Topic5\", \"Topic5\", \"Topic5\", \"Topic5\", \"Topic5\", \"Topic5\", \"Topic5\", \"Topic5\", \"Topic5\", \"Topic5\", \"Topic5\", \"Topic5\", \"Topic5\", \"Topic5\", \"Topic5\", \"Topic5\", \"Topic5\", \"Topic5\", \"Topic5\", \"Topic6\", \"Topic6\", \"Topic6\", \"Topic6\", \"Topic6\", \"Topic6\", \"Topic6\", \"Topic6\", \"Topic6\", \"Topic6\", \"Topic6\", \"Topic6\", \"Topic6\", \"Topic6\", \"Topic6\", \"Topic6\", \"Topic6\", \"Topic6\", \"Topic6\", \"Topic6\", \"Topic6\", \"Topic6\", \"Topic6\", \"Topic6\", \"Topic6\", \"Topic6\", \"Topic6\", \"Topic6\", \"Topic6\", \"Topic6\", \"Topic6\", \"Topic6\", \"Topic6\", \"Topic6\", \"Topic6\", \"Topic6\", \"Topic6\", \"Topic6\", \"Topic6\", \"Topic6\", \"Topic6\", \"Topic6\", \"Topic6\", \"Topic6\", \"Topic6\", \"Topic6\", \"Topic6\", \"Topic6\", \"Topic6\", \"Topic6\", \"Topic6\", \"Topic6\", \"Topic6\", \"Topic6\", \"Topic6\", \"Topic6\", \"Topic6\", \"Topic7\", \"Topic7\", \"Topic7\", \"Topic7\", \"Topic7\", \"Topic7\", \"Topic7\", \"Topic7\", \"Topic7\", \"Topic7\", \"Topic7\", \"Topic7\", \"Topic7\", \"Topic7\", \"Topic7\", \"Topic7\", \"Topic7\", \"Topic7\", \"Topic7\", \"Topic7\", \"Topic7\", \"Topic7\", \"Topic7\", \"Topic7\", \"Topic7\", \"Topic7\", \"Topic7\", \"Topic7\", \"Topic7\", \"Topic7\", \"Topic7\", \"Topic7\", \"Topic7\", \"Topic7\", \"Topic7\", \"Topic7\", \"Topic7\", \"Topic7\", \"Topic7\", \"Topic7\", \"Topic7\", \"Topic7\", \"Topic7\", \"Topic7\", \"Topic7\", \"Topic7\", \"Topic7\", \"Topic7\", \"Topic7\", \"Topic7\", \"Topic7\", \"Topic7\", \"Topic8\", \"Topic8\", \"Topic8\", \"Topic8\", \"Topic8\", \"Topic8\", \"Topic8\", \"Topic8\", \"Topic8\", \"Topic8\", \"Topic8\", \"Topic8\", \"Topic8\", \"Topic8\", \"Topic8\", \"Topic8\", \"Topic8\", \"Topic8\", \"Topic8\", \"Topic8\", \"Topic8\", \"Topic8\", \"Topic8\", \"Topic8\", \"Topic8\", \"Topic8\", \"Topic8\", \"Topic8\", \"Topic8\", \"Topic8\", \"Topic8\", \"Topic8\", \"Topic8\", \"Topic8\", \"Topic8\", \"Topic8\", \"Topic8\", \"Topic8\", \"Topic8\", \"Topic8\", \"Topic8\", \"Topic8\", \"Topic8\", \"Topic8\", \"Topic8\", \"Topic8\", \"Topic8\", \"Topic8\", \"Topic8\", \"Topic8\", \"Topic8\", \"Topic8\", \"Topic8\", \"Topic8\", \"Topic8\", \"Topic8\", \"Topic8\", \"Topic8\", \"Topic8\", \"Topic8\", \"Topic8\", \"Topic8\", \"Topic9\", \"Topic9\", \"Topic9\", \"Topic9\", \"Topic9\", \"Topic9\", \"Topic9\", \"Topic9\", \"Topic9\", \"Topic9\", \"Topic9\", \"Topic9\", \"Topic9\", \"Topic9\", \"Topic9\", \"Topic9\", \"Topic9\", \"Topic9\", \"Topic9\", \"Topic9\", \"Topic9\", \"Topic9\", \"Topic9\", \"Topic9\", \"Topic9\", \"Topic9\", \"Topic9\", \"Topic9\", \"Topic9\", \"Topic9\", \"Topic9\", \"Topic9\", \"Topic9\", \"Topic9\", \"Topic9\", \"Topic9\", \"Topic9\", \"Topic9\", \"Topic9\", \"Topic9\", \"Topic9\", \"Topic9\", \"Topic9\", \"Topic9\", \"Topic9\", \"Topic9\", \"Topic9\", \"Topic9\", \"Topic9\", \"Topic9\", \"Topic9\", \"Topic9\", \"Topic10\", \"Topic10\", \"Topic10\", \"Topic10\", \"Topic10\", \"Topic10\", \"Topic10\", \"Topic10\", \"Topic10\", \"Topic10\", \"Topic10\", \"Topic10\", \"Topic10\", \"Topic10\", \"Topic10\", \"Topic10\", \"Topic10\", \"Topic10\", \"Topic10\", \"Topic10\", \"Topic10\", \"Topic10\", \"Topic10\", \"Topic10\", \"Topic10\", \"Topic10\", \"Topic10\", \"Topic10\", \"Topic10\", \"Topic10\", \"Topic10\", \"Topic10\", \"Topic10\", \"Topic10\", \"Topic10\", \"Topic10\", \"Topic10\", \"Topic10\", \"Topic10\", \"Topic10\", \"Topic10\", \"Topic10\", \"Topic10\", \"Topic10\", \"Topic10\", \"Topic10\", \"Topic10\", \"Topic10\", \"Topic10\", \"Topic10\", \"Topic10\", \"Topic10\", \"Topic10\", \"Topic10\", \"Topic10\", \"Topic10\", \"Topic10\", \"Topic10\", \"Topic11\", \"Topic11\", \"Topic11\", \"Topic11\", \"Topic11\", \"Topic11\", \"Topic11\", \"Topic11\", \"Topic11\", \"Topic11\", \"Topic11\", \"Topic11\", \"Topic11\", \"Topic11\", \"Topic11\", \"Topic11\", \"Topic11\", \"Topic11\", \"Topic11\", \"Topic11\", \"Topic11\", \"Topic11\", \"Topic11\", \"Topic11\", \"Topic11\", \"Topic11\", \"Topic11\", \"Topic11\", \"Topic11\", \"Topic11\", \"Topic11\", \"Topic11\", \"Topic11\", \"Topic11\", \"Topic11\", \"Topic11\", \"Topic11\", \"Topic11\", \"Topic11\", \"Topic11\", \"Topic11\", \"Topic11\", \"Topic11\", \"Topic11\", \"Topic11\", \"Topic11\", \"Topic11\", \"Topic11\", \"Topic11\", \"Topic11\", \"Topic11\", \"Topic11\", \"Topic11\", \"Topic11\", \"Topic11\", \"Topic11\", \"Topic11\", \"Topic11\", \"Topic11\", \"Topic11\", \"Topic11\", \"Topic11\"], \"logprob\": [30.0, 29.0, 28.0, 27.0, 26.0, 25.0, 24.0, 23.0, 22.0, 21.0, 20.0, 19.0, 18.0, 17.0, 16.0, 15.0, 14.0, 13.0, 12.0, 11.0, 10.0, 9.0, 8.0, 7.0, 6.0, 5.0, 4.0, 3.0, 2.0, 1.0, -3.1307, -4.195, -4.3947, -5.1082, -5.1221, -5.193, -5.2862, -5.4036, -5.5718, -5.5816, -5.659, -5.8495, -5.7902, -5.954, -5.9607, -5.9676, -6.0066, -6.0671, -6.0915, -6.1288, -6.1342, -6.1358, -6.1538, -6.1852, -6.1863, -6.2147, -6.2274, -6.2322, -6.2396, -4.9549, -3.3494, -5.1348, -4.9906, -4.874, -4.3851, -4.9411, -5.2145, -4.9815, -5.652, -5.0926, -5.8006, -5.4193, -4.0505, -3.9719, -4.4766, -4.253, -4.7282, -5.1472, -3.7517, -3.872, -5.2498, -4.7975, -5.1745, -4.7801, -5.1554, -5.0177, -5.1554, -5.1416, -4.7782, -5.016, -5.2824, -5.3681, -4.0047, -5.6175, -5.7064, -4.2326, -5.9172, -5.9446, -5.9874, -6.0057, -6.0535, -6.0536, -6.104, -6.1045, -6.1699, -6.1719, -6.2896, -6.2987, -6.3024, -6.3097, -6.436, -6.4643, -6.4643, -6.4871, -6.5161, -6.5677, -6.6247, -3.2174, -3.6853, -5.5422, -5.4588, -5.5623, -5.6235, -6.1881, -5.2049, -5.6, -5.4732, -5.1483, -2.9174, -3.8521, -3.5139, -4.9814, -4.1173, -4.3287, -4.5033, -4.4169, -4.8773, -4.5222, -5.1538, -5.2379, -4.5137, -4.5987, -4.8903, -5.1064, -4.6109, -4.8464, -4.7208, -4.5288, -4.9535, -5.1128, -5.0849, -5.1193, -5.4276, -5.4715, -5.6032, -5.6217, -5.6601, -5.7803, -5.7879, -5.8907, -5.9074, -5.9676, -6.0054, -6.0228, -6.0942, -6.1101, -6.1453, -6.314, -6.3357, -6.3662, -6.3721, -6.433, -6.4443, -6.4487, -6.4805, -6.482, -6.4859, -6.4905, -6.5247, -6.5383, -6.5383, -6.5457, -5.5012, -4.6566, -5.9455, -4.7691, -5.3792, -5.5284, -4.7314, -6.118, -4.744, -5.4485, -3.8793, -5.1505, -5.9103, -5.9055, -4.8552, -4.8389, -4.7087, -4.5147, -4.3029, -5.0153, -5.321, -5.6601, -5.2755, -4.7487, -5.173, -4.2125, -4.7004, -4.2798, -4.3782, -5.4079, -4.8586, -4.8181, -4.892, -5.0941, -5.0578, -5.1211, -5.0575, -5.0539, -5.3074, -5.3611, -4.6048, -4.7552, -5.2534, -5.2604, -5.4129, -5.4714, -5.5098, -5.5117, -5.5139, -5.6125, -5.6732, -5.7466, -5.7586, -5.8148, -5.8716, -5.8958, -5.9046, -5.9354, -5.937, -5.9519, -5.9664, -6.1252, -6.2534, -6.2998, -6.3347, -6.3522, -6.3849, -6.4066, -6.4254, -6.4392, -4.2704, -5.8787, -3.7415, -5.8937, -5.8444, -5.8979, -5.1426, -3.7654, -4.9398, -4.4615, -4.9487, -5.5229, -4.6422, -4.6086, -5.0706, -4.8638, -4.3689, -3.8058, -4.8621, -4.0051, -4.581, -4.1901, -5.3932, -4.6817, -5.15, -5.137, -4.8528, -4.6093, -5.205, -5.0935, -5.0068, -5.1024, -4.8211, -4.997, -5.0848, -3.0738, -4.8819, -4.9697, -5.0261, -5.292, -5.4984, -5.5487, -5.6169, -5.6298, -5.6935, -5.7421, -5.8811, -5.9059, -5.9253, -5.9576, -5.9697, -5.9857, -6.0261, -6.0292, -6.0572, -6.0577, -6.0781, -6.0797, -6.1131, -6.2111, -6.2161, -6.2201, -6.2278, -6.2308, -6.2377, -5.3183, -4.8803, -3.634, -4.9367, -5.8464, -4.7103, -5.463, -4.91, -4.905, -5.6346, -5.775, -4.9639, -5.3898, -4.5816, -5.0361, -3.6784, -5.2712, -5.4132, -4.6625, -5.4346, -4.4187, -5.1649, -4.9604, -5.3785, -5.4367, -5.2233, -5.0439, -5.3397, -5.2867, -5.3633, -5.361, -5.3817, -4.5421, -4.7906, -4.8713, -5.0915, -5.1095, -5.229, -5.297, -5.316, -5.3681, -5.4629, -5.5586, -5.5717, -5.6082, -5.6406, -5.6472, -5.6813, -5.7262, -5.7471, -5.8577, -5.8621, -5.8845, -5.9653, -6.0529, -6.0733, -6.0766, -6.0922, -6.0964, -6.137, -6.1557, -6.1669, -4.4184, -4.9921, -3.6241, -5.6724, -4.0089, -4.4102, -5.5214, -5.1121, -5.1997, -5.4857, -5.25, -4.7608, -5.0189, -4.7595, -4.8855, -4.9331, -4.0991, -4.0611, -4.812, -4.7215, -4.6339, -5.3846, -4.7839, -5.1528, -4.6716, -5.1352, -5.2759, -3.2272, -3.4945, -3.5511, -4.098, -4.3797, -4.783, -4.9494, -5.0869, -5.2286, -5.3026, -5.3799, -5.3815, -5.3848, -5.4492, -5.5389, -5.5416, -5.6148, -5.6446, -4.8172, -5.6665, -5.6745, -5.6779, -5.6958, -5.7225, -5.7996, -5.8418, -5.8653, -5.8964, -5.9401, -5.9415, -5.3387, -4.8622, -4.9429, -5.0788, -4.7558, -3.813, -4.7535, -3.9603, -4.012, -4.7527, -4.8898, -5.289, -4.7617, -4.552, -4.7006, -5.1447, -5.138, -5.107, -5.1529, -5.2634, -5.2102, -5.2623, -3.9521, -4.0285, -4.2078, -4.7384, -4.784, -4.97, -5.0056, -5.358, -5.3926, -5.4639, -5.4821, -5.7061, -5.762, -5.8915, -5.9555, -5.9574, -6.0117, -6.0568, -6.0642, -6.0943, -6.0943, -6.1266, -6.1489, -6.1843, -6.2115, -6.2121, -6.2391, -6.2552, -6.3023, -6.3694, -3.5151, -5.0996, -5.6461, -5.2684, -4.1844, -5.0581, -5.3646, -5.2718, -5.3161, -5.0155, -4.3352, -5.1768, -5.2256, -4.588, -4.9723, -5.0748, -4.771, -3.6796, -4.7649, -4.7756, -5.1768, -4.9858, -4.5893, -4.4926, -4.695, -4.8947, -5.012, -4.9602, -4.9879, -4.9284, -5.0039, -5.0322, -3.9687, -4.3255, -4.528, -4.7555, -4.9125, -4.9471, -4.9536, -5.0163, -5.0558, -5.0754, -5.1066, -5.1492, -5.2462, -5.298, -5.3213, -5.3803, -5.4038, -5.4311, -5.4768, -5.5242, -5.5767, -5.5813, -5.5887, -5.625, -5.7701, -5.7991, -3.0513, -5.8478, -5.8498, -5.8685, -4.2199, -5.1833, -4.787, -4.0935, -4.7481, -3.6602, -4.0489, -4.5722, -4.7277, -5.3004, -5.0074, -5.0292, -5.145, -4.6799, -4.8543, -4.8632, -4.9028, -4.7654, -5.0016, -5.0121, -4.9903, -5.053, -4.0859, -4.407, -4.5131, -4.6979, -4.7972, -4.9269, -5.1782, -5.2197, -5.44, -5.4419, -5.5066, -5.5822, -5.5931, -5.6029, -5.6243, -5.645, -5.7113, -5.7383, -5.7505, -5.7508, -5.7527, -5.759, -5.7603, -5.7882, -5.8165, -5.8711, -5.8969, -5.9471, -5.95, -5.9652, -4.9915, -4.6351, -3.9432, -5.4165, -4.7574, -3.708, -5.1632, -3.6787, -4.0291, -3.9943, -5.3937, -5.5497, -5.174, -3.7635, -5.2903, -4.8639, -4.5949, -4.8651, -4.8651, -4.6626, -5.1155, -4.5511, -5.0689, -4.803, -5.1738, -4.941, -5.0441, -5.1738, -4.5482, -4.7316, -4.933, -5.0187, -5.075, -5.1555, -5.3036, -5.3234, -5.4327, -5.4479, -5.4679, -5.4744, -5.5156, -5.625, -5.6445, -5.6648, -5.6782, -5.7409, -5.7491, -5.919, -6.0349, -6.064, -6.0642, -6.0791, -6.0797, -6.0893, -6.096, -6.1328, -6.1459, -6.1489, -3.9539, -3.5163, -3.8275, -5.3802, -4.5872, -5.1625, -5.0811, -4.3742, -5.6459, -5.3945, -3.9628, -4.7874, -5.0067, -5.0705, -4.4389, -5.1862, -5.4921, -4.8545, -5.3614, -4.4104, -4.5302, -4.8913, -4.9112, -4.7342, -5.0067, -5.1742, -5.0127, -4.8373, -4.8119, -4.8931, -4.8875, -5.0774], \"loglift\": [30.0, 29.0, 28.0, 27.0, 26.0, 25.0, 24.0, 23.0, 22.0, 21.0, 20.0, 19.0, 18.0, 17.0, 16.0, 15.0, 14.0, 13.0, 12.0, 11.0, 10.0, 9.0, 8.0, 7.0, 6.0, 5.0, 4.0, 3.0, 2.0, 1.0, 1.827, 1.8251, 1.8244, 1.8206, 1.8205, 1.82, 1.8192, 1.8181, 1.8163, 1.8162, 1.8152, 1.8126, 1.8123, 1.8109, 1.8108, 1.8107, 1.81, 1.8089, 1.8084, 1.8076, 1.8075, 1.8075, 1.8071, 1.8065, 1.8065, 1.8058, 1.8056, 1.8054, 1.8053, 1.8047, 1.7927, 1.7972, 1.7793, 1.7726, 1.6981, 1.72, 1.7274, 1.6836, 1.757, 1.6882, 1.7491, 1.6694, 1.368, 1.2882, 1.3781, 1.2963, 1.379, 1.501, 0.8222, 0.8638, 1.4723, 0.9789, 1.1154, -0.0431, 0.83, 0.133, 0.5143, -0.1742, 1.8987, 1.8972, 1.895, 1.8941, 1.8936, 1.8912, 1.89, 1.887, 1.8866, 1.8861, 1.8853, 1.8849, 1.884, 1.884, 1.8829, 1.8829, 1.8815, 1.8814, 1.8786, 1.8783, 1.8782, 1.8781, 1.8745, 1.8737, 1.8737, 1.873, 1.8721, 1.8704, 1.8684, 1.8682, 1.8575, 1.8677, 1.8667, 1.8589, 1.8486, 1.8641, 1.8121, 1.8323, 1.8228, 1.7928, 1.621, 1.6523, 1.5725, 1.7404, 1.5674, 1.5855, 1.5984, 1.5278, 1.6198, 1.5078, 1.6615, 1.6597, 1.1639, 1.2077, 1.3569, 1.4669, 0.8938, 1.0301, 0.8007, 0.4386, 0.7387, 1.086, 0.9161, 0.9847, 2.0818, 2.0812, 2.0793, 2.079, 2.0783, 2.0762, 2.0761, 2.074, 2.0737, 2.0724, 2.0715, 2.0711, 2.0694, 2.069, 2.068, 2.0632, 2.0625, 2.0615, 2.0613, 2.0592, 2.0588, 2.0586, 2.0575, 2.0574, 2.0573, 2.0571, 2.0558, 2.0553, 2.0553, 2.055, 2.0368, 2.0169, 2.0396, 2.0012, 1.9585, 1.9727, 1.8744, 2.0207, 1.8658, 1.9387, 1.6827, 1.8695, 1.9588, 1.9562, 1.6849, 1.5858, 1.4955, 1.3282, 1.2074, 1.5391, 1.673, 1.8386, 1.5812, 1.1912, 1.4808, 0.6996, 0.9693, 0.4573, 0.3577, 1.5182, 0.5966, 0.442, 0.0754, 0.4401, 0.0929, 0.2974, -0.4836, -0.5154, 0.5691, 0.4153, 2.4233, 2.422, 2.4159, 2.4158, 2.4133, 2.4122, 2.4114, 2.4114, 2.4114, 2.4093, 2.4079, 2.4061, 2.4058, 2.4044, 2.4028, 2.4021, 2.4019, 2.4009, 2.4009, 2.4004, 2.4, 2.3947, 2.3897, 2.3878, 2.3863, 2.3855, 2.384, 2.383, 2.3821, 2.3814, 2.2211, 2.3377, 2.141, 2.3158, 2.2949, 2.3031, 2.1151, 1.7393, 2.0227, 1.8426, 1.9942, 2.1667, 1.7932, 1.7095, 1.943, 1.7669, 1.4074, 0.9312, 1.604, 0.9069, 1.3353, 0.7774, 2.019, 1.0471, 1.644, 1.4133, 0.6575, -0.0354, 1.5101, 1.152, 0.7697, 1.0016, -0.2827, 0.0894, 0.7216, 2.4382, 2.4292, 2.4282, 2.4275, 2.4237, 2.42, 2.419, 2.4175, 2.4172, 2.4157, 2.4145, 2.4108, 2.41, 2.4095, 2.4085, 2.4081, 2.4076, 2.4063, 2.4062, 2.4052, 2.4052, 2.4045, 2.4044, 2.4033, 2.3995, 2.3994, 2.3992, 2.3989, 2.3988, 2.3985, 2.3984, 2.3851, 2.3548, 2.3713, 2.3819, 2.2838, 2.337, 2.2743, 2.2072, 2.3142, 2.3418, 2.0726, 2.1689, 1.7074, 1.908, 0.8955, 1.9341, 1.8847, 0.8717, 1.8207, 0.3184, 1.3854, 1.0338, 1.673, 1.7604, 0.6532, -0.5055, 1.0954, 0.5419, 0.9758, 0.1883, -0.231, 2.5209, 2.5185, 2.5176, 2.5148, 2.5145, 2.5126, 2.5115, 2.5111, 2.5101, 2.5083, 2.5062, 2.5059, 2.505, 2.5042, 2.504, 2.5032, 2.502, 2.5014, 2.4982, 2.498, 2.4973, 2.4947, 2.4916, 2.4908, 2.4907, 2.4901, 2.4899, 2.4883, 2.4876, 2.4871, 2.4685, 2.4734, 2.4247, 2.4784, 2.4098, 2.4017, 2.4595, 2.4096, 2.4054, 2.4209, 2.3721, 2.2308, 2.1358, 1.7834, 1.8424, 1.6977, 0.6379, 0.5128, 1.316, 1.1071, 0.9003, 2.1596, 0.6713, 1.5716, 0.0642, 0.4141, 0.2455, 2.6137, 2.613, 2.6128, 2.6103, 2.6084, 2.6045, 2.6024, 2.6003, 2.5979, 2.5965, 2.595, 2.5949, 2.5949, 2.5935, 2.5914, 2.5913, 2.5894, 2.5886, 2.5882, 2.588, 2.5877, 2.5877, 2.5872, 2.5864, 2.5841, 2.5827, 2.5819, 2.5809, 2.5793, 2.5793, 2.4792, 2.3388, 2.337, 2.3266, 2.1302, 1.6972, 2.0518, 0.9518, 0.9554, 1.6827, 1.7125, 2.1115, 1.3133, 0.9934, 0.977, 1.8148, 1.6618, 1.0971, 1.3484, 1.9531, 0.6328, -0.5264, 2.6497, 2.6492, 2.6481, 2.6433, 2.6428, 2.6403, 2.6398, 2.6334, 2.6326, 2.631, 2.6305, 2.6245, 2.6228, 2.6184, 2.616, 2.6159, 2.6138, 2.6119, 2.6116, 2.6103, 2.6103, 2.6089, 2.6079, 2.6062, 2.6049, 2.6049, 2.6036, 2.6027, 2.6003, 2.5966, 2.542, 2.5453, 2.5643, 2.5399, 2.43, 2.4666, 2.4833, 2.4184, 2.3727, 2.2401, 1.9829, 2.2353, 2.2218, 1.8906, 2.0713, 2.1266, 1.9441, 1.2325, 1.8493, 1.8257, 2.0193, 1.5685, 0.5614, 0.2433, 0.7602, 1.1353, 1.4931, 1.1148, 0.9974, 0.158, -0.0365, -0.2952, 2.7753, 2.7727, 2.7707, 2.768, 2.7657, 2.7652, 2.7651, 2.764, 2.7633, 2.763, 2.7624, 2.7616, 2.7596, 2.7584, 2.7579, 2.7564, 2.7559, 2.7552, 2.7539, 2.7526, 2.7511, 2.7509, 2.7507, 2.7496, 2.7447, 2.7437, 2.7429, 2.7418, 2.7417, 2.741, 2.7168, 2.7293, 2.697, 2.5426, 2.4394, 1.4905, 1.6763, 2.0411, 2.1143, 2.4354, 1.9911, 1.9048, 2.1276, 0.9898, 1.357, 1.3355, 0.8735, -0.0284, 0.9147, 0.9821, 0.5551, 1.2369, 2.7762, 2.7736, 2.7725, 2.7704, 2.769, 2.7671, 2.7626, 2.7617, 2.7565, 2.7565, 2.7547, 2.7525, 2.7522, 2.7519, 2.7512, 2.7506, 2.7484, 2.7474, 2.747, 2.747, 2.7469, 2.7467, 2.7467, 2.7457, 2.7446, 2.7425, 2.7415, 2.7394, 2.7392, 2.7386, 2.7227, 2.6963, 2.6313, 2.71, 2.6275, 2.2549, 2.5623, 2.0466, 1.9718, 1.8486, 2.5407, 2.6134, 2.3512, 0.9723, 2.3632, 1.8727, 1.4543, 1.7482, 1.7104, 1.3227, 1.9579, 0.5996, 1.7713, 0.7424, 1.706, -0.0289, -0.4702, 0.4959, 3.0779, 3.0749, 3.0709, 3.069, 3.0676, 3.0656, 3.0613, 3.0606, 3.057, 3.0564, 3.0557, 3.0555, 3.0539, 3.0495, 3.0487, 3.0478, 3.0472, 3.0443, 3.0439, 3.0351, 3.0283, 3.0264, 3.0264, 3.0255, 3.0254, 3.0248, 3.0243, 3.0219, 3.0209, 3.0207, 3.0001, 2.9495, 2.9343, 2.9482, 2.8353, 2.8937, 2.8405, 2.6895, 2.9363, 2.8788, 2.4865, 2.5753, 2.6539, 2.6736, 2.2985, 2.7031, 2.8722, 2.1065, 2.7164, 1.4182, 1.519, 1.9489, 1.9308, 1.5113, 2.0179, 2.2581, 1.5896, 0.8915, 0.7095, 0.9133, 0.2632, 0.1827]}, \"token.table\": {\"Topic\": [1, 10, 10, 4, 10, 6, 3, 6, 7, 9, 10, 2, 3, 5, 6, 7, 4, 5, 10, 11, 1, 8, 9, 7, 9, 3, 9, 5, 11, 11, 5, 7, 4, 1, 5, 1, 3, 4, 6, 8, 10, 2, 9, 1, 2, 4, 6, 7, 2, 6, 9, 9, 11, 8, 9, 1, 3, 5, 6, 7, 9, 3, 1, 7, 7, 2, 8, 11, 8, 1, 3, 5, 6, 7, 8, 10, 11, 1, 4, 4, 3, 4, 5, 11, 1, 9, 4, 5, 11, 3, 6, 11, 7, 8, 9, 11, 4, 5, 1, 2, 3, 5, 7, 8, 6, 1, 3, 4, 6, 7, 9, 10, 1, 9, 4, 3, 7, 11, 6, 2, 5, 6, 8, 10, 3, 8, 1, 2, 3, 5, 6, 7, 8, 9, 10, 8, 1, 8, 7, 9, 3, 9, 11, 2, 6, 1, 5, 9, 5, 9, 7, 2, 6, 9, 3, 8, 2, 5, 4, 2, 5, 1, 3, 4, 5, 7, 9, 10, 11, 7, 7, 7, 4, 3, 11, 8, 5, 8, 2, 2, 2, 2, 4, 3, 7, 8, 3, 8, 3, 4, 7, 8, 11, 3, 5, 2, 4, 2, 3, 8, 11, 1, 4, 6, 8, 6, 1, 3, 5, 3, 6, 11, 5, 1, 1, 2, 3, 5, 6, 7, 10, 11, 3, 10, 4, 3, 4, 5, 6, 8, 9, 10, 6, 10, 1, 8, 9, 10, 8, 1, 5, 10, 1, 2, 3, 5, 6, 7, 8, 10, 11, 6, 1, 3, 7, 9, 2, 6, 7, 8, 6, 8, 8, 11, 2, 5, 7, 11, 6, 1, 2, 5, 1, 2, 3, 4, 5, 10, 3, 6, 8, 9, 11, 2, 8, 4, 2, 2, 7, 8, 2, 5, 8, 9, 8, 5, 10, 4, 5, 8, 10, 2, 3, 8, 1, 5, 5, 2, 8, 1, 2, 3, 5, 8, 9, 10, 11, 9, 6, 8, 8, 9, 1, 6, 1, 5, 6, 7, 10, 3, 11, 6, 7, 3, 4, 10, 4, 8, 3, 2, 4, 8, 10, 2, 9, 3, 8, 9, 2, 4, 6, 4, 9, 9, 9, 3, 6, 7, 7, 7, 10, 3, 4, 7, 7, 11, 6, 11, 2, 4, 8, 9, 6, 10, 5, 3, 8, 10, 2, 4, 6, 8, 9, 8, 6, 10, 5, 3, 1, 2, 3, 6, 9, 11, 1, 5, 6, 7, 1, 11, 1, 2, 4, 5, 6, 8, 3, 4, 5, 11, 10, 1, 2, 3, 5, 7, 10, 11, 1, 2, 4, 9, 10, 3, 1, 3, 5, 8, 10, 2, 3, 4, 5, 6, 7, 8, 9, 9, 8, 5, 2, 3, 4, 7, 8, 9, 10, 11, 3, 5, 1, 3, 5, 6, 7, 3, 6, 8, 1, 2, 3, 5, 8, 2, 2, 2, 3, 7, 10, 11, 11, 6, 2, 6, 1, 3, 9, 1, 11, 3, 8, 2, 5, 3, 7, 8, 7, 2, 3, 8, 8, 5, 10, 10, 9, 7, 2, 3, 4, 5, 1, 4, 5, 7, 7, 9, 3, 1, 1, 7, 1, 2, 3, 5, 7, 10, 4, 1, 5, 6, 1, 3, 4, 7, 1, 8, 9, 10, 11, 11, 1, 3, 4, 5, 6, 7, 8, 10, 1, 3, 7, 10, 3, 2, 1, 2, 4, 6, 7, 11, 9, 1, 3, 5, 6, 9, 10, 2, 9, 10, 1, 2, 3, 6, 2, 9, 9, 3, 11, 9, 7, 9, 5, 10, 3, 3, 1, 2, 3, 4, 5, 6, 7, 8, 5, 10, 11, 4, 6, 2, 4, 5, 11, 3, 4, 11, 3, 9, 2, 3, 4, 8, 7, 1, 2, 4, 8, 11, 4, 8, 5, 11, 5, 6, 1, 2, 7, 10, 10, 10, 9, 10, 6, 7, 5, 10, 5, 1, 2, 3, 10, 11, 5, 1, 5, 6, 7, 8, 9, 10, 10, 1, 9, 3, 5, 6, 1, 2, 5, 10, 11, 1, 9, 2, 3, 4, 5, 7, 9, 6, 2, 4, 10, 2, 3, 11, 3, 5, 1, 3, 9, 10, 11, 4, 4, 5, 1, 10, 7, 8, 2, 4, 6, 7, 8, 9, 10, 2, 4, 7, 11, 3, 6, 1, 4, 6, 1, 5, 10, 3, 2, 3, 8, 3, 9, 6, 9, 11, 2, 3, 6, 8, 1, 7, 10, 1, 1, 4, 8, 9, 9, 2, 4, 7, 9, 9, 5, 7, 3, 6, 2, 8, 1, 3, 4, 10, 4, 10, 11, 3, 5, 9, 2, 8, 1, 3, 5, 7, 3, 4, 5, 7, 8, 10, 8, 1, 5, 9, 1, 2, 3, 4, 7, 11, 8, 3, 5, 6, 11, 3, 2, 3, 5, 6, 7, 10, 11, 1, 3, 4, 5, 10, 4, 6, 10, 6, 6, 2, 1, 8, 4, 2, 3, 8, 4, 8, 3, 8, 2, 2, 5, 8, 11, 11, 4, 6, 10, 4, 6, 8, 1, 2, 5, 6, 10, 6, 3, 11, 6, 6, 9, 6, 5, 1, 2, 7, 3, 6, 2, 1, 3, 4, 6, 11, 4, 1, 3, 5, 9, 5, 1, 2, 3, 4, 5, 6, 7, 8, 9, 5, 6, 11, 1, 9, 10, 1, 2, 3, 7, 8, 11, 4, 11, 1, 3, 6, 7, 8, 10, 11, 2, 5, 8, 1, 2, 3, 4, 6, 8, 9, 10, 11, 5, 2, 7, 1, 3, 4, 11, 5, 2, 3, 4, 6, 7, 8, 3, 4, 4, 11, 7, 4, 6, 1, 6, 10, 3, 10, 10, 1, 3, 9, 2, 4, 8, 1, 5, 9, 5, 8, 3, 4, 5, 9, 11, 11, 11, 5, 2, 2, 4, 7, 8, 11, 4, 7, 11, 1, 6, 9, 11, 10, 3, 11, 3, 11, 1, 7, 4, 1, 4, 7, 8, 10, 11, 10, 1, 11, 6, 1, 8, 8, 5, 4, 11, 4, 7, 8, 5, 1, 11, 1, 2, 5, 6, 7, 10, 1, 7, 11, 3, 2, 9, 2, 3, 1, 10, 7, 10, 3, 6, 8, 6, 1, 5, 6, 7, 6, 2, 4, 1, 2, 3, 4, 5, 7, 8, 9, 1, 2, 5, 3, 10, 2, 6, 9, 10, 4, 5, 6, 9, 1, 4, 5, 6, 8, 9, 3, 3, 1, 5, 9, 11, 7, 9, 11, 4, 4, 1, 3, 1, 3, 6, 8, 9, 1, 3, 10, 11, 1, 3, 4, 9, 11, 2, 3, 8, 3, 6, 3, 4, 7, 10, 5, 9, 6, 10, 2, 3, 6, 4, 5, 10, 7, 2, 3, 4, 5, 7, 8, 5, 9, 1, 3, 9, 10, 11, 4, 1, 3, 5, 7, 8, 2, 4, 5, 6, 8, 11, 6, 1, 2, 3, 4, 5, 6, 8, 9, 10, 11, 1, 5, 2, 3, 10, 11, 4, 5, 1, 10, 5, 2, 3, 5, 2, 8, 2, 1, 2, 4, 5, 6, 7, 9, 1, 6, 1, 8, 3, 7, 11, 1, 2, 3, 4, 5, 6, 7, 8, 10, 3, 3, 4, 5, 7, 8, 10, 2, 3, 4, 5, 6, 7, 9, 11, 6, 9, 7, 1, 3, 8, 3, 1, 5, 1, 2, 3, 4, 5, 6, 8, 10, 10, 1, 2, 3, 4, 5, 7, 8, 9, 10, 11, 1, 6, 8, 7, 7, 7, 10, 11, 9, 4, 7, 8, 9, 1, 3, 9, 10, 1, 2, 3, 5, 6, 8, 9, 11, 1, 2, 3, 4, 5, 9, 7, 1, 10, 1, 2, 3, 4, 5, 6, 9], \"Freq\": [0.05592135627473717, 0.9227023785331633, 0.9641609366866535, 0.9516102223079299, 0.9326598725978988, 0.9896295304114017, 0.20219950117443283, 0.16175960093954625, 0.6146864835702758, 0.016175960093954625, 0.9805729088602008, 0.9727640777327731, 0.09699002780311239, 0.1492154273894037, 0.1865192842367546, 0.567018624079734, 0.14330137206265156, 0.0781643847614463, 0.16935616698313366, 0.5992602831710884, 0.9888128174910863, 0.9916278510661899, 0.9676023155053834, 0.022577734752888785, 0.948264859621329, 0.9671422817709782, 0.9645489663984212, 0.9078842013017036, 0.08070081789348475, 0.9767238022867529, 0.978138478890298, 0.973164922067524, 0.9568772911721132, 0.9792855461210529, 0.9683365838339524, 0.36804424763342003, 0.19059434252444965, 0.016430546769349106, 0.0032861093538698216, 0.19059434252444965, 0.23331376412475732, 0.9606046910121159, 0.025962288946273403, 0.13771043453957751, 0.7283351871204321, 0.10404788387434745, 0.03060231878657278, 0.9794307281614834, 0.5023114383172261, 0.38533480199677617, 0.10321467910627934, 0.3088055122651846, 0.6837836343014801, 0.82718540773943, 0.15318248291470926, 0.10387534510363879, 0.31162603531091637, 0.11129501261104156, 0.02967867002961108, 0.3858227103849441, 0.05935734005922216, 0.9539207568062876, 0.10268347374151669, 0.8625411794287402, 0.9882413946099635, 0.954182735246082, 0.04433149876143301, 0.9596603989857492, 0.9825614949956034, 0.19579233861043918, 0.22155448842760225, 0.2627739281350631, 0.061829159561191324, 0.1442680389761131, 0.02576214981716305, 0.04637186967089349, 0.041219439707460885, 0.9794682843947766, 0.982106404684386, 0.9792924149564218, 0.045057600440574615, 0.09912672096926414, 0.8560944083709177, 0.9497079327689985, 0.9065953728173899, 0.08552786536013113, 0.01731465185058837, 0.06925860740235348, 0.9090192221558894, 0.9700395342054121, 0.9670133008327373, 0.9746732686475166, 0.1481499323213132, 0.8465710418360755, 0.9664590490018801, 0.9008521518541922, 0.8736271342975486, 0.09037522078940158, 0.12673319846951012, 0.4185142833179172, 0.2180989927149709, 0.16799517006423437, 0.0589456737067489, 0.01178913474134978, 0.976797244904721, 0.26842221401613653, 0.3235446329658789, 0.007189880732575086, 0.04793253821716724, 0.0814853149691843, 0.16776388376008533, 0.1006583302560512, 0.9711125359933546, 0.9899508701117942, 0.988297496494557, 0.5222751251557748, 0.45263844180167145, 0.017409170838525827, 0.9682408939820476, 0.36504361803684365, 0.11559714571166715, 0.07909278390798279, 0.43805234164421236, 0.9500231815584418, 0.9752561209618118, 0.9599763441103591, 0.14392065792090725, 0.12698881581256521, 0.10370753291359493, 0.048679046061483336, 0.0592614473791971, 0.1968326645094761, 0.08042625001462464, 0.10794049344068044, 0.12910529607610796, 0.9771516067223958, 0.9738401726777582, 0.9967222034193255, 0.28428529782446504, 0.7107132445611626, 0.9780159800994798, 0.9796046380695826, 0.9671822183924432, 0.2967736420309672, 0.6872652762822398, 0.2571447319898124, 0.5914328835765685, 0.15428683919388744, 0.8895774562584128, 0.09363973223772766, 0.9640347676128818, 0.3903345917809375, 0.18668176128653532, 0.41579119559273775, 0.9220851222821903, 0.0719357187596035, 0.9856478697626441, 0.969103776272486, 0.9759541151108719, 0.9530669468812283, 0.027625128895108066, 0.4266468435298872, 0.07732974038979205, 0.18932453681638742, 0.06399702652948308, 0.10399516811041, 0.061330483757421284, 0.03999814158092692, 0.03466505603680333, 0.9950751947927706, 0.9978570361591208, 0.96715273590841, 0.9811097320111248, 0.9469201712697978, 0.046569844488678576, 0.9921392978039242, 0.9497902535558116, 0.9471175222063789, 0.9957480053804686, 0.9810715846849328, 0.9740725599791169, 0.21676719517016046, 0.7586851830955615, 0.08865293318515671, 0.753549932073832, 0.14406101642587965, 0.10170947820153677, 0.8950434081735235, 0.9813927063391313, 0.5256967789963598, 0.39169563925218964, 0.03607722993112273, 0.04123111992128312, 0.047280119978430624, 0.9456023995686124, 0.9809164631472609, 0.015033202500341163, 0.9880520877517474, 0.009037061778217201, 0.9854430025707087, 0.9669990304186075, 0.9956734865258133, 0.9816679394386357, 0.9741574702413353, 0.9774390787955067, 0.984836959902983, 0.33192608590279093, 0.6638521718055819, 0.9989268586107151, 0.10131904863268215, 0.8612119133777982, 0.016886508105447024, 0.9611840572057498, 0.9808999905090264, 0.5885285902660338, 0.14235168067806594, 0.004249303900837789, 0.10623259752094473, 0.12110516117387699, 0.014872563652932262, 0.02337117145460784, 0.9566399093099238, 0.13622711105512508, 0.8588230914344841, 0.9913535591248149, 0.04519392618677638, 0.5558852920973495, 0.06779088928016458, 0.031635748330743466, 0.1672175268910726, 0.0587521040428093, 0.07231028189884221, 0.9778378020581494, 0.967407018648803, 0.9968516406138029, 0.07567784275957672, 0.7000200455260847, 0.20811406758883597, 0.9728678853084202, 0.15041267083606064, 0.6956586026167805, 0.15041267083606064, 0.19145981449160498, 0.1489131890490261, 0.22433675233359776, 0.03867875040234444, 0.15664893912949499, 0.054150250563282216, 0.1508471265691433, 0.0019339375201172222, 0.036744812882227224, 0.9816435979818865, 0.02398563060881171, 0.02398563060881171, 0.7555473641775688, 0.19188504487049368, 0.6448297292405496, 0.08873803613402058, 0.11831738151202745, 0.14198085781443293, 0.9805954225892807, 0.9471175222063789, 0.12751679954486594, 0.8660515969088811, 0.5230719276220747, 0.06102505822257538, 0.04358932730183956, 0.37486821479582016, 0.9745376552766706, 0.638475755075959, 0.33037408256837414, 0.025984478404254146, 0.192418405444181, 0.3996382266917606, 0.04810460136104525, 0.24052300680522626, 0.0740070790169927, 0.04810460136104525, 0.07432711796057775, 0.15794512566622773, 0.25085402311694993, 0.16723601541129995, 0.34376292056767216, 0.8972860434222812, 0.10254697639111786, 0.983158693977038, 0.9974280268118121, 0.8510104089850452, 0.020588961507702706, 0.1303967562154505, 0.46302880330048707, 0.4808376034274289, 0.04006980028561907, 0.013356600095206358, 0.9686419285783122, 0.9850133999222065, 0.9818183026290049, 0.2745827275012472, 0.04734184956918055, 0.5586338249163305, 0.11362043896603331, 0.07022353582499806, 0.26919022066249254, 0.6554196676999818, 0.9654454149938254, 0.025406458289311193, 0.9764648244045449, 0.944674193916503, 0.04360034741153091, 0.18398796454277538, 0.04136163543984873, 0.13549501264778033, 0.06988690126043406, 0.12265864302851692, 0.27526881516864843, 0.11267479999131207, 0.05847679493219993, 0.9690086041681183, 0.0608208955846869, 0.9123134337703035, 0.9476382886085016, 0.9898097047570829, 0.9278448270615713, 0.05457910747421008, 0.1960074330641376, 0.08675738840543795, 0.0963970982282644, 0.028919129468479316, 0.5912355358000215, 0.22130032639623912, 0.7745511423868369, 0.9943893580516671, 0.9823737458672437, 0.9864203082367649, 0.07575978762083084, 0.9217440827201085, 0.8779957661000278, 0.11328977627097134, 0.9705693254458404, 0.21134670976419512, 0.6156621545304815, 0.1378348107157794, 0.027566962143155883, 0.9896887855577529, 0.9889980348453826, 0.8767043224942235, 0.06352929873146547, 0.05082343898517237, 0.22285611239967962, 0.7272146825673755, 0.04691707629466939, 0.9627010445245061, 0.9852381691127156, 0.9792604681333731, 0.975165435825379, 0.10690421767705571, 0.8857778036098902, 0.998286754549493, 0.9953488104882272, 0.9867411817756419, 0.9684597674563247, 0.7761120733770844, 0.20895325052459965, 0.991245488172939, 0.980179698212993, 0.9835712034657377, 0.9559302787716273, 0.9533123982736249, 0.47354219262371494, 0.03228696767888966, 0.4681610313439, 0.02152464511925977, 0.9455424977278998, 0.028652802961451507, 0.9596154370208824, 0.8006159395866883, 0.11000829704244573, 0.07945043675287747, 0.6846832036489184, 0.07888055341577402, 0.025241777093047684, 0.1514506625582861, 0.05994922059598825, 0.9436634784276579, 0.14503531786425528, 0.8412048436126806, 0.9894138190022698, 0.9813838110745822, 0.18304529090920188, 0.4393086981820845, 0.07321811636368075, 0.024406038787893585, 0.23592504161630465, 0.040676731313155974, 0.07914003929643483, 0.9167054551837034, 0.8977172686743488, 0.08977172686743487, 0.9485087246908039, 0.050926642936419006, 0.04267297337196303, 0.3637362968372087, 0.49988340235728124, 0.06096139053137576, 0.008128185404183435, 0.020320463510458586, 0.1271931418599723, 0.35845339978719465, 0.34689038689083357, 0.1561006741008751, 0.9728560177354281, 0.11909477744882194, 0.11909477744882194, 0.11909477744882194, 0.04903902600833844, 0.11909477744882194, 0.26621185547383724, 0.2066644667494263, 0.49014167819285004, 0.07574916844798592, 0.1203075028291541, 0.2138800050296073, 0.09802833563857001, 0.9805249021052298, 0.018488134639713535, 0.40057625052712664, 0.12941694247799476, 0.4437152313531249, 0.9880612789331952, 0.753084685106644, 0.07345281836255767, 0.06649413030715746, 0.05257675419635707, 0.008505063178822467, 0.03170069003015647, 0.0046391253702668, 0.010051438302244734, 0.9726723672674823, 0.9651829325351452, 0.952930616420849, 0.011234587826683962, 0.24828439096971555, 0.21795100383766886, 0.18874107548829056, 0.24154363827370517, 0.022469175653367923, 0.059543315481424997, 0.011234587826683962, 0.06166437839416259, 0.9372985515912714, 0.6320264790406434, 0.16593025555934293, 0.06152470149953165, 0.07457539575700806, 0.06525347128738206, 0.9866482912891938, 0.9746048523914451, 0.9452785604807206, 0.058913046695243186, 0.7780585132509704, 0.09954273407127297, 0.006094453106404467, 0.0568815623264417, 0.9762506332593317, 0.9673942123861142, 0.7510791265021087, 0.027411646952631704, 0.07675261146736878, 0.09319959963894779, 0.049340964514737067, 0.9582050781337917, 0.9793264756884097, 0.9705736169261368, 0.9851365193754632, 0.8662802897164462, 0.07279666300138203, 0.05095766410096742, 0.977406749023539, 0.9580599254081859, 0.08637426337425791, 0.8982923390922822, 0.9664800790739552, 0.02510337867724559, 0.056490437522365905, 0.0458984804869223, 0.8932550433224109, 0.973666520874197, 0.2628975913462054, 0.5386194554410061, 0.19236409122893075, 0.9845462222363508, 0.037027795208942754, 0.9442087778280402, 0.9899827983842365, 0.9823752862433882, 0.9608212266511285, 0.034923497862948474, 0.08730874465737118, 0.663546459396021, 0.20954098717769085, 0.09470025773945186, 0.10822886598794497, 0.1894005154789037, 0.6087873711821905, 0.978888255178874, 0.013595670210817696, 0.9687133903522706, 0.9984060763912332, 0.976862591187286, 0.9852653500700962, 0.4399979593560003, 0.16850985677463842, 0.032765805483957466, 0.2293606383877023, 0.018723317419404268, 0.10765907516157454, 0.9801259396979968, 0.2028012047436611, 0.7909246985002782, 0.9765117199683058, 0.018390762242000175, 0.4107270234046706, 0.1696036962317794, 0.39846651524333715, 0.9803022542404629, 0.05714801335645031, 0.028574006678225156, 0.05000451168689402, 0.8500766986771984, 0.9666478336807656, 0.38149627715157886, 0.17614766377122285, 0.039562576889793366, 0.021665220677743985, 0.08477695047812864, 0.04333044135548797, 0.08948678106024689, 0.16390210425771537, 0.014960103780828005, 0.8826461230688523, 0.08976062268496802, 0.9557335756493472, 0.9893103031768367, 0.954603974366926, 0.03836127048389457, 0.3196772540324548, 0.2770536201614608, 0.07246017758068975, 0.08524726774198793, 0.20459344258077106, 0.9827783115136598, 0.28423682521910737, 0.08238748557075576, 0.09474560840636913, 0.18949121681273826, 0.2389237081551917, 0.1029843569634447, 0.9683328060067349, 0.9749381324469724, 0.9725216972218409, 0.9849714796499751, 0.9127730459590817, 0.018439859514324884, 0.06453950830013709, 0.9873636447701504, 0.9964813730506529, 0.9575698418696381, 0.9799452302382878, 0.967446647346701, 0.9794197466274621, 0.9810350831196015, 0.9687391938025945, 0.1872407552965581, 0.8051352477751998, 0.9845964400094628, 0.9434884432934005, 0.13536457268393562, 0.2303572552691536, 0.13298975561930518, 0.19117277370275118, 0.028497804775565395, 0.023748170646304495, 0.18998536517043596, 0.06768228634196781, 0.9711227984702244, 0.974629081758821, 0.9523566161617144, 0.9177910667036553, 0.06118607111357702, 0.34670712772853635, 0.4573583387057288, 0.07376747398479497, 0.11802795837567195, 0.9924911194261128, 0.9530646158234019, 0.9683177047073795, 0.9821971922837083, 0.9887526925015211, 0.7837222381941912, 0.21100214105228224, 0.937504823538926, 0.960221504532836, 0.9644270346680961, 0.17978605581762677, 0.017122481506440645, 0.6420930564915242, 0.1541023335579658, 0.9662228990024575, 0.9955898796330852, 0.9767941183921464, 0.9138669755286312, 0.08307881595714828, 0.9896955223577661, 0.9895237650631041, 0.2438520075753839, 0.23409792727236853, 0.07803264242412285, 0.438933613635691, 0.979769129519161, 0.9596575204718136, 0.9794109594733463, 0.9744618700090242, 0.9385208007588421, 0.0433163446504081, 0.20767605421197524, 0.7845539825785732, 0.9800435300693301, 0.11780405178520624, 0.07068243107112374, 0.5968738623783783, 0.11780405178520624, 0.09424324142816498, 0.9567603411983026, 0.21550105592463886, 0.24533966366805038, 0.12266983183402519, 0.07293881892833931, 0.12598523269440426, 0.16577004301895296, 0.05304641376606495, 0.9889966161808504, 0.9961308790518173, 0.9856484326564762, 0.026967127253119276, 0.22472606044266064, 0.7460905206696333, 0.6372938162560966, 0.09516152007443976, 0.12976570919241784, 0.10092888492743611, 0.03460418911797809, 0.9764724615795841, 0.014255072431818746, 0.3523243317840396, 0.1761621658920198, 0.07156587989363304, 0.0880810829460099, 0.28075845189040655, 0.03303040610475371, 0.9528724717996604, 0.9262616164028762, 0.0731259170844376, 0.9463056559580948, 0.2479937699765726, 0.0953822192217587, 0.6485990907079592, 0.9819098302111258, 0.9593560162630528, 0.9917688853304119, 0.08513396100178604, 0.5108037660107162, 0.08513396100178604, 0.30957804000649464, 0.9789153703437029, 0.9874296178104653, 0.9827822222501629, 0.978442237625191, 0.9844538457895803, 0.984939123736991, 0.929761223851093, 0.5764421775139705, 0.20068727661597494, 0.04269942055659041, 0.05123930466790849, 0.03842947850093137, 0.021349710278295204, 0.06831907289054466, 0.09744412360315824, 0.27406159763388255, 0.4080472675882251, 0.22533953583230343, 0.0483469449915311, 0.9427654273348566, 0.0438598328202778, 0.5137866130375399, 0.4323326377998811, 0.12871218612441146, 0.5382509601566297, 0.3276310192257746, 0.9755520292830991, 0.08707375252295416, 0.5746867666514974, 0.33668517642208945, 0.8544139180432817, 0.13350217469426276, 0.05955912634489548, 0.935929128276929, 0.9649279819116844, 0.7346284948597335, 0.01476640190672831, 0.08121521048700571, 0.16243042097401142, 0.8769739199605437, 0.05798174677425083, 0.06160560594764151, 0.9676724172624898, 0.9870998261413206, 0.40728097640750915, 0.13576032546916972, 0.4525344182305657, 0.9775402434159779, 0.1904881607429855, 0.1904881607429855, 0.08333857032505615, 0.5238424420432101, 0.9870457174701632, 0.9775570870616096, 0.9539245862867269, 0.7952911064347282, 0.19419899110615457, 0.9777036040920777, 0.9481723157489561, 0.17537736383920027, 0.35075472767840055, 0.4357861768125582, 0.037201258996193996, 0.9657048858825314, 0.9611646025436348, 0.9726339411775535, 0.0950888958625439, 0.7607111669003512, 0.12678519448339187, 0.3991319762555016, 0.5876109650428218, 0.19134228973313425, 0.22510857615662852, 0.05627714403915713, 0.5177497251602455, 0.5480373338533552, 0.032718646797215235, 0.032718646797215235, 0.2208508658812028, 0.11451526379025331, 0.05316780104547475, 0.9851390368842381, 0.08189407454372238, 0.12599088391341906, 0.787443024458869, 0.5823652745819554, 0.10660785081145085, 0.1909394342891657, 0.039779048810242856, 0.023867429286145714, 0.054099506381930285, 0.9617594871274451, 0.6016568902010604, 0.1580624033579057, 0.09687695689678091, 0.1427660417426245, 0.9725219435796542, 0.7128563455163943, 0.07785461794035706, 0.004865913621272316, 0.0754216611297209, 0.05109209302335932, 0.07298870431908475, 0.004865913621272316, 0.2649436050963966, 0.12143248566918177, 0.09935385191114872, 0.5078085764347602, 0.9949702859799505, 0.07095720328316937, 0.8869650410396172, 0.040546973304668214, 0.9814573785789792, 0.9376260796302163, 0.9922266413580457, 0.9904343407677362, 0.9671834384412655, 0.988719694055665, 0.7855365516017868, 0.07364405171266751, 0.13910543101281642, 0.4858376580206141, 0.5087545286819638, 0.32849560578909076, 0.6569912115781815, 0.9889646607960669, 0.972113819687011, 0.9581733792042906, 0.758106032583887, 0.23465186722834597, 0.9791758280076887, 0.9732525468792914, 0.3310387257157633, 0.6620774514315266, 0.9392124397982101, 0.9743075866697112, 0.9722074889615259, 0.13931406464869425, 0.11841695495139011, 0.29952523899469263, 0.03482851616217356, 0.40401078748121333, 0.9757496958783638, 0.20504133269407843, 0.7746005901776296, 0.959641341754079, 0.8798130675842565, 0.09960147934916111, 0.9537076884840264, 0.9798097403018845, 0.9869602433367041, 0.9747556008142182, 0.9530311787664346, 0.9466767422280004, 0.02427376262123078, 0.979835798080024, 0.29181715124013935, 0.21981032171335171, 0.1326441596546088, 0.29560698437312816, 0.05684749699483234, 0.9708265274514397, 0.2862401388844267, 0.5640614501546055, 0.10102593137097413, 0.04209413807123922, 0.9642730643835321, 0.1537191391595837, 0.01791818186522755, 0.19427081390720397, 0.22350574221362787, 0.11976889983599467, 0.15088995254928464, 0.02734880389955784, 0.05186842118881659, 0.06035598101971385, 0.9575362962917715, 0.15638068557276408, 0.8079668754592811, 0.18748340191095472, 0.3318962925720955, 0.4788427427185195, 0.06886046814271105, 0.09468314369622768, 0.6627820058735938, 0.06025290962487217, 0.07746802666054993, 0.03658212370081524, 0.292975008414409, 0.6924863835249667, 0.23308899325332605, 0.17682613281286802, 0.04018775745747001, 0.08037551491494002, 0.048225308948964006, 0.33757716264274806, 0.07233796342344602, 0.967307753946893, 0.9786204296350369, 0.9861705030563995, 0.02796779852224052, 0.1271263569192751, 0.1601792097182866, 0.2517101867001647, 0.10170108553542007, 0.12966888405766058, 0.07627581415156505, 0.017797689968698512, 0.11187119408896208, 0.9520091994688922, 0.9536632401612968, 0.977175466549053, 0.9722093519815009, 0.09114103681741663, 0.8810300225683607, 0.954746613945691, 0.9491910174165923, 0.22645137292748682, 0.010783398710832705, 0.17253437937332328, 0.10423952087138282, 0.2731794340077619, 0.21566797421665412, 0.9340521402625985, 0.05660922062197567, 0.17734378394519273, 0.8157814061478866, 0.9526689634988541, 0.9767837950394024, 0.9477743121619997, 0.04551695476148345, 0.8998351825924037, 0.04901825897390526, 0.9759798542167758, 0.9598967156026005, 0.9614909296546843, 0.9266513904405801, 0.0628238230807173, 0.9518452542720204, 0.13936029252236343, 0.7472083769284167, 0.10970916645377547, 0.8624783560378874, 0.097271995041867, 0.032423998347289, 0.8500855059222086, 0.14168091765370144, 0.06844467397674672, 0.6570688701767685, 0.1916450871348908, 0.08213360877209606, 0.9381461900136482, 0.906471404497045, 0.9832440679395342, 0.9707014965895708, 0.9722030773637141, 0.08180314583284953, 0.3953818715254394, 0.020450786458212383, 0.49081887499709714, 0.9363509590976035, 0.2653813549174023, 0.293316234382392, 0.4329906317073406, 0.20714619077644525, 0.5040557308893501, 0.20714619077644525, 0.07595360328469658, 0.9754757660031321, 0.9674205110249819, 0.9530854241128716, 0.08821030688618244, 0.8379979154187331, 0.9841162567456868, 0.9851778064488388, 0.9725898212435575, 0.9963210536011581, 0.06953006422798708, 0.06953006422798708, 0.16996237922396842, 0.3631014465239325, 0.31674807037194114, 0.9796495210288441, 0.16192465235285036, 0.8096232617642518, 0.9878294351483246, 0.9928124284235881, 0.9753093540228678, 0.9710710991500889, 0.9781009717744108, 0.9596766140849969, 0.927528698703523, 0.14178594823715648, 0.19850032753201907, 0.6522153618909198, 0.9813980866947974, 0.10265607447580166, 0.8554672872983472, 0.026701931255595456, 0.370489296171387, 0.04672837969729205, 0.010013224220848296, 0.10013224220848296, 0.4439196071242745, 0.965804044686639, 0.03393747741212202, 0.9627104460202547, 0.9825054199879796, 0.9648150245892102, 0.034744031356398156, 0.9620167858752268, 0.950148702885262, 0.9505804754967415, 0.04320820343167007, 0.133200927617935, 0.8524859367547841, 0.6577710940760277, 0.04505281466274163, 0.2883380138415464, 0.9726251436690985, 0.3149232812397113, 0.46761335699229856, 0.10497442707990376, 0.10497442707990376, 0.9657639640787407, 0.18535617718393693, 0.812296188247253, 0.06908170501798526, 0.12246302253188296, 0.40506999760545903, 0.09734240252534286, 0.05024124001308019, 0.10048248002616038, 0.0533813175138977, 0.10048248002616038, 0.9715460912822995, 0.9696553364841045, 0.027314234830538155, 0.33716407052705183, 0.6436768619152808, 0.9357073625744836, 0.05586312612384977, 0.9618039802440919, 0.9664968616990083, 0.9813013653070066, 0.06007885143512605, 0.8786532022387185, 0.06007885143512605, 0.18237253704568607, 0.24316338272758142, 0.12158169136379071, 0.08289660774803911, 0.31500710944254867, 0.060790845681895356, 0.9864951693053371, 0.9745366232661355, 0.7002357096771966, 0.16476134345345803, 0.041190335863364506, 0.08238067172672901, 0.1739045393742366, 0.1545818127770992, 0.6666340676012403, 0.96722466508201, 0.9869423414563485, 0.980849693410077, 0.971962260287802, 0.2926730041607206, 0.07460292262920329, 0.4763109675556826, 0.03443211813655537, 0.12625109983403635, 0.04323056752764577, 0.8646113505529154, 0.06484585129146865, 0.9894509129530867, 0.11497803529938541, 0.020905097327160983, 0.09407293797222444, 0.21950352193519032, 0.5435325305061856, 0.6735337607549204, 0.10652829889491089, 0.2199293912669128, 0.9077101190220621, 0.08644858276400591, 0.4645389604397008, 0.0028499322726362013, 0.13679674908653766, 0.3932906536237958, 0.07353477501113206, 0.9118312101380377, 0.9390748060098502, 0.056668307259215095, 0.9807660595637235, 0.31744259554572357, 0.6772108704975436, 0.030957629302911117, 0.9287288790873335, 0.9753945001215639, 0.9899452259685327, 0.7168828698189628, 0.00534987216282808, 0.09629769893090545, 0.040124041221210605, 0.05751112575040186, 0.08292301852383524, 0.03528805653023514, 0.9609209239771723, 0.43281358842564943, 0.04150267286273351, 0.14822383165261965, 0.3438792894340776, 0.035573719596628715, 0.9803774267940231, 0.7204715693005292, 0.07013440055137896, 0.07013440055137896, 0.06375854595579905, 0.07013440055137896, 0.14640287335700375, 0.11154504636724095, 0.1394313079590512, 0.1045734809692884, 0.04880095778566792, 0.4531517508669164, 0.981272353191762, 0.1735773177853192, 0.33062346244822705, 0.010331983201507095, 0.026863156323918447, 0.02479675968361703, 0.10125343537476954, 0.10538622865537238, 0.07232388241054967, 0.05992550256874116, 0.09298784881356385, 0.415135293804383, 0.5738634943766471, 0.9732549883162257, 0.8797982677945071, 0.10729247168225697, 0.9258014683613147, 0.9625052157125535, 0.9858796023971855, 0.9845269745031782, 0.9837660956143237, 0.9844133077506387, 0.9717877033407184, 0.01856167131695169, 0.9652069084814878, 0.1988329102701789, 0.7953316410807156, 0.9876015364781918, 0.10386867027630534, 0.47586344289377097, 0.03381770660158778, 0.06038876178854962, 0.04589545895929771, 0.19324403772335877, 0.08454426650396947, 0.8978115289049767, 0.09688613621276727, 0.9778709982585853, 0.9618675434368728, 0.1930374216162797, 0.15793970859513792, 0.6493076908911226, 0.3661140107537775, 0.032044990000330634, 0.07610685125078526, 0.08491922350087618, 0.2130991835021987, 0.13298670850137212, 0.0304427405003141, 0.02643711675027277, 0.03845398800039676, 0.9743457997393292, 0.16542779982355604, 0.03308555996471121, 0.13234223985884483, 0.08822815990589655, 0.5293689594353793, 0.044114079952948276, 0.49732037040799293, 0.041214395337678976, 0.18134333948578749, 0.06044777982859583, 0.01648575813507159, 0.03846676898183371, 0.05220490076106003, 0.11265268058965586, 0.97040505306836, 0.9483264756499914, 0.9633668740006791, 0.12885921104757286, 0.7976998779135464, 0.07363383488432736, 0.9863592001939605, 0.3895529335149072, 0.6010245259944282, 0.1402261094331639, 0.18208464956246656, 0.19045635758832707, 0.04185854012930266, 0.20929270064651329, 0.1967351386077225, 0.0041858540129302655, 0.03557975910990726, 0.9790030097594751, 0.07108400589338676, 0.31129892236069373, 0.12991214870170684, 0.09314455944650679, 0.10294924991456013, 0.04412110710624006, 0.051474624957280064, 0.05882814280832008, 0.08824221421248012, 0.04902345234026673, 0.8518935029089195, 0.13868033768284738, 0.9777735300944113, 0.9942264116129726, 0.9915080448811086, 0.747774099781463, 0.06797946361649664, 0.17674660540289125, 0.986762434537333, 0.08013194102795859, 0.11711591381009334, 0.801319410279586, 0.9620664527300539, 0.049258652769951214, 0.11083196873239022, 0.47411453291078043, 0.3571252325821463, 0.27530959049387, 0.011237126142606938, 0.04213922303477602, 0.14889192138954194, 0.24159821206604917, 0.07023203839129337, 0.025283533820865612, 0.1882218628886662, 0.11346614271732676, 0.2606654629992642, 0.07053300763509501, 0.3342651231402329, 0.06439970262334763, 0.15333262529368483, 0.976418050551909, 0.9763382678589299, 0.9514640455213521, 0.07732241057643195, 0.08532128063606284, 0.18664030139138746, 0.3599491526833901, 0.05599209041741624, 0.0879875706559398, 0.14931224111310998], \"Term\": [\"absorbency\", \"absorbency\", \"absorbent\", \"accord\", \"ace\", \"ache\", \"adult\", \"adult\", \"adult\", \"adult\", \"adventure\", \"afternoon\", \"aid\", \"aid\", \"aid\", \"aid\", \"air\", \"air\", \"air\", \"air\", \"allergy\", \"almond\", \"alt\", \"amazon\", \"amazon\", \"amino_acid\", \"antiperspirant\", \"applicator\", \"applicator\", \"apply\", \"arabica\", \"arm\", \"audubon\", \"avalon\", \"avery\", \"baby\", \"baby\", \"baby\", \"baby\", \"baby\", \"baby\", \"bacon\", \"bacon\", \"bag\", \"bag\", \"bag\", \"bag\", \"bai\", \"bake\", \"bake\", \"bake\", \"baker\", \"baker\", \"bakery\", \"bakery\", \"balance\", \"balance\", \"balance\", \"balance\", \"balance\", \"balance\", \"banana\", \"band\", \"band\", \"bandage\", \"bar\", \"bar\", \"barbeque\", \"barilla\", \"base\", \"base\", \"base\", \"base\", \"base\", \"base\", \"base\", \"base\", \"bath\", \"bathroom\", \"battery\", \"bean\", \"bean\", \"bean\", \"bear\", \"beauty\", \"beauty\", \"beef\", \"beef\", \"beef\", \"begin\", \"biotin\", \"biscuit\", \"bit\", \"bit\", \"bladder\", \"blade\", \"bleach\", \"bleach\", \"blend\", \"blend\", \"blend\", \"blend\", \"blend\", \"blend\", \"bloat\", \"body\", \"body\", \"body\", \"body\", \"body\", \"body\", \"body\", \"body_lotion\", \"body_wash\", \"boiron\", \"bone\", \"bone\", \"bone\", \"booster\", \"box\", \"box\", \"box\", \"box\", \"brace\", \"brain\", \"bran\", \"brand\", \"brand\", \"brand\", \"brand\", \"brand\", \"brand\", \"brand\", \"brand\", \"brand\", \"bread\", \"breakage\", \"breakfast\", \"breath\", \"breath\", \"breed\", \"brew\", \"brightener\", \"brownie\", \"brownie\", \"brush\", \"brush\", \"brush\", \"build\", \"build\", \"burger\", \"cake\", \"cake\", \"cake\", \"calcium\", \"calcium\", \"cane\", \"cap\", \"car\", \"caramel\", \"caramel\", \"care\", \"care\", \"care\", \"care\", \"care\", \"care\", \"care\", \"care\", \"cat\", \"cat_food\", \"cat_food_wellness\", \"cavity\", \"cell\", \"cell\", \"cereal\", \"certify_organic\", \"characterize\", \"cheddar\", \"cheesy\", \"cheez\", \"chef\", \"chef\", \"chew\", \"chew\", \"chew\", \"chewy\", \"chewy\", \"chia\", \"chicken\", \"chicken\", \"chicken\", \"chicken\", \"chili\", \"chili\", \"chip\", \"chip\", \"chocolate\", \"chocolate\", \"chunk\", \"circle\", \"cleanser\", \"clorox\", \"clothe\", \"cluster\", \"cocktail\", \"coconut\", \"coconut\", \"coffee\", \"cold\", \"cold\", \"cold\", \"colgate\", \"collagen\", \"color\", \"color\", \"color\", \"color\", \"color\", \"color\", \"color\", \"comb\", \"comfort\", \"comfort\", \"commit\", \"company\", \"company\", \"company\", \"company\", \"company\", \"company\", \"company\", \"complement\", \"compression\", \"conditioner\", \"confidence\", \"confidence\", \"confidence\", \"consistency\", \"contact\", \"contact\", \"contact\", \"contain\", \"contain\", \"contain\", \"contain\", \"contain\", \"contain\", \"contain\", \"contain\", \"contain\", \"container\", \"core\", \"core\", \"core\", \"core\", \"corn\", \"corn\", \"corn\", \"corn\", \"cough\", \"courage\", \"cracker\", \"cracker\", \"craft\", \"craft\", \"craft\", \"craft\", \"cramp\", \"cream\", \"cream\", \"cream\", \"create\", \"create\", \"create\", \"create\", \"create\", \"create\", \"crisp\", \"crisp\", \"crisp\", \"crisp\", \"crisp\", \"crispy\", \"crispy\", \"crocker\", \"crunch\", \"crunchy\", \"crunchy\", \"crunchy\", \"cup\", \"cup\", \"cup\", \"cup\", \"curiosity\", \"curl\", \"cushion\", \"customer\", \"customer\", \"customer\", \"customer\", \"dairy\", \"dairy\", \"dairy\", \"damage\", \"damage\", \"dandruff\", \"dark_chocolate\", \"dark_chocolate\", \"day\", \"day\", \"day\", \"day\", \"day\", \"day\", \"day\", \"day\", \"defense\", \"degree\", \"degree\", \"dentist\", \"deodorant\", \"dermatologist\", \"dermatologist\", \"design\", \"design\", \"design\", \"design\", \"design\", \"dessert\", \"dessert\", \"detergent\", \"dha\", \"diagnose_treat_cure\", \"diaper\", \"diaper\", \"difference\", \"difference\", \"digestion\", \"dinner\", \"dinner\", \"dinner\", \"dinner\", \"dip\", \"discreet\", \"disease\", \"disease\", \"disease\", \"dish\", \"dish\", \"dish\", \"distributor\", \"div\", \"div_class\", \"div_div\", \"doctor\", \"doctor\", \"dog\", \"dog_food\", \"dog_treat\", \"dream\", \"drug_administration\", \"drug_administration\", \"dry_cat_food\", \"dry_dog_food\", \"dryer\", \"duncan_hine\", \"durability\", \"eat\", \"eat\", \"eat\", \"eat\", \"edge\", \"edge\", \"electrolyte\", \"energy\", \"energy\", \"energy\", \"enjoy\", \"enjoy\", \"enjoy\", \"enjoy\", \"enjoy\", \"entre\", \"enzyme\", \"enzyme\", \"essence\", \"exercise\", \"experience\", \"experience\", \"experience\", \"experience\", \"experience\", \"experience\", \"eye\", \"eye\", \"fabric\", \"fabric\", \"face\", \"face\", \"family\", \"family\", \"family\", \"family\", \"family\", \"family\", \"farm\", \"farm\", \"farm\", \"farm\", \"farmer\", \"feature\", \"feature\", \"feature\", \"feature\", \"feature\", \"feature\", \"feature\", \"feel\", \"feel\", \"feel\", \"feel\", \"feel\", \"fever\", \"fiber\", \"fiber\", \"fiber\", \"fiber\", \"fit\", \"flavor\", \"flavor\", \"flavor\", \"flavor\", \"flavor\", \"flavor\", \"flavor\", \"flavor\", \"floss\", \"flour\", \"fluid\", \"food\", \"food\", \"food\", \"food\", \"food\", \"food\", \"food\", \"food\", \"foot\", \"foot\", \"formula\", \"formula\", \"formula\", \"formula\", \"formula\", \"freeze\", \"freezer\", \"frost\", \"fruit\", \"fruit\", \"fruit\", \"fruit\", \"fruit\", \"fruity\", \"fudge\", \"fun\", \"fun\", \"fun\", \"fun\", \"fun\", \"futuro\", \"gain\", \"game\", \"gas\", \"gel\", \"gel\", \"gel\", \"gloss\", \"goji\", \"good_source\", \"good_source\", \"grab\", \"grab\", \"grain\", \"grain\", \"grain\", \"grain_free\", \"gram\", \"gram\", \"gram\", \"granola\", \"grass\", \"grass\", \"green_superfood\", \"green_tea\", \"greenie\", \"grow\", \"grow\", \"grow\", \"grow\", \"guarantee\", \"guarantee\", \"guarantee\", \"guarantee\", \"gum\", \"gum\", \"gummie\", \"hair\", \"hair_color\", \"hammer\", \"hand\", \"hand\", \"hand\", \"hand\", \"hand\", \"hand\", \"harvest\", \"head\", \"head\", \"headache\", \"health\", \"health\", \"health\", \"health\", \"healthy_look\", \"heat\", \"heat\", \"heat\", \"heat\", \"heel\", \"help\", \"help\", \"help\", \"help\", \"help\", \"help\", \"help\", \"help\", \"help_support\", \"help_support\", \"help_support\", \"hemorrhoid\", \"hershey\", \"holiday\", \"home\", \"home\", \"home\", \"home\", \"home\", \"home\", \"hostess\", \"hour\", \"hour\", \"hour\", \"hour\", \"hour\", \"hour\", \"household\", \"https\", \"huggie\", \"hydrate\", \"ice\", \"ice\", \"ice\", \"iced_tea\", \"image\", \"img\", \"immune\", \"impurity\", \"incontinence\", \"indoor\", \"indulgence\", \"industry\", \"industry\", \"infant\", \"infusion\", \"ingredient\", \"ingredient\", \"ingredient\", \"ingredient\", \"ingredient\", \"ingredient\", \"ingredient\", \"ingredient\", \"injure\", \"injury\", \"inner\", \"inspiration\", \"inspiration\", \"inspire\", \"inspire\", \"inspire\", \"inspire\", \"intend\", \"jason\", \"jerky\", \"joint\", \"jpg\", \"juice\", \"juice\", \"kashrut\", \"kellogg\", \"keyword\", \"kitchen\", \"kitchen\", \"kitchen\", \"kitchen\", \"knee\", \"knorr\", \"krill\", \"label\", \"label\", \"lash\", \"laundry\", \"layer\", \"layer\", \"layer\", \"layer\", \"leak\", \"leakage\", \"leftimage\", \"leg\", \"lemon\", \"lemon\", \"length\", \"length\", \"lense\", \"level\", \"level\", \"level\", \"level\", \"level\", \"lime\", \"line\", \"line\", \"line\", \"line\", \"line\", \"line\", \"line\", \"liner\", \"lip\", \"lipton\", \"liquid\", \"liquid\", \"liquid\", \"look\", \"look\", \"look\", \"look\", \"look\", \"lotion\", \"lotion\", \"love\", \"love\", \"love\", \"love\", \"love\", \"love\", \"lozenge\", \"lunch\", \"lunch\", \"maca\", \"machine\", \"machine\", \"machine\", \"magnesium\", \"maine\", \"makeup\", \"man\", \"man\", \"man\", \"man\", \"manufacturer\", \"manufacturing\", \"mascara\", \"massage\", \"material\", \"mayonnaise\", \"mccormick\", \"meal\", \"meal\", \"meal\", \"meal\", \"meal\", \"meal\", \"meal\", \"meat\", \"meat\", \"meat\", \"meat\", \"medication\", \"medication\", \"medicine\", \"medicine\", \"medicine\", \"medium\", \"medium\", \"medium\", \"metabolism\", \"milk\", \"milk\", \"milk\", \"milk_chocolate\", \"milk_chocolate\", \"mint\", \"mint\", \"mist\", \"mix\", \"mix\", \"mix\", \"mix\", \"moisture\", \"moisture\", \"moisture\", \"moisturize\", \"moisturizer\", \"moment\", \"moment\", \"moment\", \"motionsense\", \"mouth\", \"mouth\", \"mouth\", \"mouth\", \"mouthwash\", \"movie\", \"multigrain\", \"muscle\", \"muscle\", \"mustard\", \"nation\", \"nature\", \"nature\", \"nature\", \"nature\", \"nausea\", \"neck\", \"nexxus\", \"note\", \"note\", \"note\", \"nut\", \"nut\", \"nutrient\", \"nutrient\", \"nutrient\", \"nutrient\", \"nutrition\", \"nutrition\", \"nutrition\", \"nutrition\", \"nutrition\", \"nutrition\", \"oat\", \"odor\", \"odor\", \"odor\", \"oil\", \"oil\", \"oil\", \"oil\", \"oil\", \"oil\", \"olay\", \"ounce\", \"ounce\", \"ounce\", \"ounce\", \"pac\", \"pack\", \"pack\", \"pack\", \"pack\", \"pack\", \"pack\", \"pack\", \"packaging\", \"packaging\", \"packaging\", \"packaging\", \"pad\", \"pain\", \"pain\", \"pain\", \"pain_relief\", \"pak\", \"pantry\", \"paraben\", \"parma\", \"partner\", \"party\", \"party\", \"party\", \"pasta\", \"pasta\", \"peanut\", \"peanut\", \"peanut_butter\", \"pellegrino\", \"pencil\", \"pepper\", \"pepper\", \"pepperidge\", \"peppermint\", \"period\", \"period\", \"pesticide\", \"pink\", \"pizza\", \"place\", \"place\", \"place\", \"place\", \"place\", \"plate\", \"play\", \"play\", \"plenty\", \"pocket\", \"pocket\", \"pod\", \"popcorn\", \"pore\", \"portion\", \"pot\", \"potassium\", \"potassium\", \"potato_chip\", \"power\", \"power\", \"power\", \"power\", \"power\", \"practice\", \"prevent\", \"prevent\", \"prevent\", \"prevent\", \"price\", \"product\", \"product\", \"product\", \"product\", \"product\", \"product\", \"product\", \"product\", \"product\", \"project\", \"proof\", \"proof\", \"protection\", \"protection\", \"protection\", \"protein\", \"protein\", \"protein\", \"protein\", \"protein\", \"protein\", \"prove\", \"prove\", \"provide\", \"provide\", \"provide\", \"provide\", \"provide\", \"provide\", \"provide\", \"puff\", \"purity\", \"quaker\", \"quality\", \"quality\", \"quality\", \"quality\", \"quality\", \"quality\", \"quality\", \"quality\", \"quality\", \"radiant\", \"raisin\", \"ranch\", \"rash\", \"raspberry\", \"raspberry\", \"razor\", \"reaction\", \"recipe\", \"recipe\", \"recipe\", \"recipe\", \"recipe\", \"recipe\", \"reducer\", \"reducer\", \"refill\", \"refill\", \"refreshment\", \"regulation\", \"relentless\", \"relief\", \"relief\", \"relief\", \"reliever\", \"removal\", \"remover\", \"repair\", \"repair\", \"rescue\", \"rice\", \"rice\", \"rice\", \"rinse\", \"rinse\", \"rinse\", \"roast\", \"roast\", \"roll\", \"roll\", \"roll\", \"roll\", \"run\", \"sacrifice\", \"salon\", \"salty\", \"sandwich\", \"sauce\", \"sauce\", \"sauce\", \"sauce\", \"sausage\", \"savory\", \"savory\", \"savory\", \"scent\", \"scent\", \"scent\", \"scent\", \"secure\", \"sell\", \"seltzer\", \"sensation\", \"sensation\", \"sensitive_skin\", \"sensitivity\", \"service\", \"shampoo\", \"shape\", \"shape\", \"shape\", \"shape\", \"shape\", \"shareholder\", \"sheer\", \"sheer\", \"sheet\", \"shine\", \"shop\", \"shortbread\", \"shoulder\", \"sickness\", \"silk\", \"simple\", \"simple\", \"simple\", \"single_serve\", \"sit\", \"sit\", \"size\", \"size\", \"size\", \"size\", \"size\", \"size\", \"skin\", \"skin\", \"smoke\", \"smoothie\", \"snack\", \"snack\", \"snicker\", \"soak\", \"soap\", \"soap\", \"soda\", \"soda\", \"sodium\", \"sodium\", \"sodium\", \"softener\", \"solution\", \"solution\", \"solution\", \"solution\", \"sore\", \"soup\", \"soup\", \"source\", \"source\", \"source\", \"source\", \"source\", \"source\", \"source\", \"source\", \"spf\", \"spicy\", \"spicy\", \"sport\", \"sport\", \"spread\", \"spread\", \"src\", \"stabilizer\", \"staff\", \"stain\", \"stain\", \"stain\", \"start\", \"start\", \"start\", \"start\", \"start\", \"start\", \"statement\", \"steel\", \"step\", \"step\", \"step\", \"step\", \"stick\", \"stick\", \"stick\", \"stimulate\", \"stomach\", \"strand\", \"strap\", \"strength\", \"strength\", \"strength\", \"strength\", \"strength\", \"study\", \"study\", \"study\", \"stuff\", \"style\", \"style\", \"style\", \"style\", \"style\", \"sugar\", \"sugar\", \"sugar\", \"supplement\", \"supplement\", \"support\", \"support\", \"support\", \"support\", \"sweat\", \"sweat\", \"symptom\", \"symptom\", \"syrup\", \"tablet\", \"tablet\", \"taco\", \"taco\", \"tampon\", \"tape\", \"taste\", \"taste\", \"taste\", \"taste\", \"taste\", \"taste\", \"tea\", \"tea\", \"technology\", \"technology\", \"technology\", \"technology\", \"technology\", \"tender\", \"test\", \"test\", \"test\", \"test\", \"test\", \"thing\", \"thing\", \"thing\", \"thing\", \"thing\", \"thing\", \"throat\", \"time\", \"time\", \"time\", \"time\", \"time\", \"time\", \"time\", \"time\", \"time\", \"time\", \"tip\", \"tip\", \"toast\", \"toddler\", \"toddler\", \"toe\", \"toilet\", \"tom\", \"tone\", \"toothbrush\", \"toothpaste\", \"tortilla\", \"trade\", \"trade\", \"tradition\", \"tradition\", \"tran\", \"treat\", \"treat\", \"treat\", \"treat\", \"treat\", \"treat\", \"treat\", \"treatment\", \"treatment\", \"tresemm\", \"trident\", \"twist\", \"twist\", \"twist\", \"use\", \"use\", \"use\", \"use\", \"use\", \"use\", \"use\", \"use\", \"use\", \"valley\", \"value\", \"value\", \"value\", \"value\", \"value\", \"value\", \"variety\", \"variety\", \"variety\", \"variety\", \"variety\", \"variety\", \"variety\", \"variety\", \"vibrancy\", \"vision\", \"vitality\", \"vitamin\", \"vitamin\", \"vitamin\", \"vitamin_d\", \"volume\", \"volume\", \"water\", \"water\", \"water\", \"water\", \"water\", \"water\", \"water\", \"water\", \"waterproof\", \"way\", \"way\", \"way\", \"way\", \"way\", \"way\", \"way\", \"way\", \"way\", \"way\", \"week\", \"week\", \"wellbee\", \"wellness\", \"wellness_complete_health\", \"wet\", \"wet\", \"wet\", \"wetness\", \"wheat\", \"wheat\", \"wheat\", \"width\", \"woman\", \"woman\", \"woman\", \"woman\", \"work\", \"work\", \"work\", \"work\", \"work\", \"work\", \"work\", \"work\", \"world\", \"world\", \"world\", \"world\", \"world\", \"world\", \"wound\", \"wrinkle\", \"wrist\", \"year\", \"year\", \"year\", \"year\", \"year\", \"year\", \"year\"]}, \"R\": 30, \"lambda.step\": 0.01, \"plot.opts\": {\"xlab\": \"PC1\", \"ylab\": \"PC2\"}, \"topic.order\": [11, 9, 4, 1, 2, 5, 7, 3, 10, 6, 8]};\n",
       "\n",
       "function LDAvis_load_lib(url, callback){\n",
       "  var s = document.createElement('script');\n",
       "  s.src = url;\n",
       "  s.async = true;\n",
       "  s.onreadystatechange = s.onload = callback;\n",
       "  s.onerror = function(){console.warn(\"failed to load library \" + url);};\n",
       "  document.getElementsByTagName(\"head\")[0].appendChild(s);\n",
       "}\n",
       "\n",
       "if(typeof(LDAvis) !== \"undefined\"){\n",
       "   // already loaded: just create the visualization\n",
       "   !function(LDAvis){\n",
       "       new LDAvis(\"#\" + \"ldavis_el179217026376516647785810101\", ldavis_el179217026376516647785810101_data);\n",
       "   }(LDAvis);\n",
       "}else if(typeof define === \"function\" && define.amd){\n",
       "   // require.js is available: use it to load d3/LDAvis\n",
       "   require.config({paths: {d3: \"https://d3js.org/d3.v5\"}});\n",
       "   require([\"d3\"], function(d3){\n",
       "      window.d3 = d3;\n",
       "      LDAvis_load_lib(\"https://cdn.jsdelivr.net/gh/bmabey/pyLDAvis@3.2.2/pyLDAvis/js/ldavis.v3.0.0.js\", function(){\n",
       "        new LDAvis(\"#\" + \"ldavis_el179217026376516647785810101\", ldavis_el179217026376516647785810101_data);\n",
       "      });\n",
       "    });\n",
       "}else{\n",
       "    // require.js not available: dynamically load d3 & LDAvis\n",
       "    LDAvis_load_lib(\"https://d3js.org/d3.v5.js\", function(){\n",
       "         LDAvis_load_lib(\"https://cdn.jsdelivr.net/gh/bmabey/pyLDAvis@3.2.2/pyLDAvis/js/ldavis.v3.0.0.js\", function(){\n",
       "                 new LDAvis(\"#\" + \"ldavis_el179217026376516647785810101\", ldavis_el179217026376516647785810101_data);\n",
       "            })\n",
       "         });\n",
       "}\n",
       "</script>"
      ],
      "text/plain": [
       "<IPython.core.display.HTML object>"
      ]
     },
     "execution_count": 63,
     "metadata": {},
     "output_type": "execute_result"
    }
   ],
   "source": [
    "topic_data =  pyLDAvis.gensim.prepare(best_lda_model, full_dtm, comment_dict, mds = 'pcoa')\n",
    "pyLDAvis.display(topic_data)"
   ]
  },
  {
   "cell_type": "markdown",
   "metadata": {},
   "source": [
    "## Extract Word List for each Topic Using a Predefined Lambda"
   ]
  },
  {
   "cell_type": "code",
   "execution_count": 66,
   "metadata": {},
   "outputs": [
    {
     "name": "stderr",
     "output_type": "stream",
     "text": [
      "c:\\users\\donal\\anaconda3\\envs\\topic-modeling-optimization\\lib\\site-packages\\ipykernel\\ipkernel.py:283: DeprecationWarning: `should_run_async` will not call `transform_cell` automatically in the future. Please pass the result to `transformed_cell` argument and any exception that happen during thetransform in `preprocessing_exc_tuple` in IPython 7.17 and above.\n",
      "  and should_run_async(code)\n"
     ]
    }
   ],
   "source": [
    "def output_word_list(_lambda):\n",
    "    # To extract words for a given lambda.\n",
    "    all_topics = {}\n",
    "    num_terms = 10 # Adjust number of words to represent each topic\n",
    "    # _lambda = 0.08 # Adjust this accordingly based on tuning above\n",
    "    for i in range(1,9): #Adjust this to reflect number of topics chosen for final LDA model\n",
    "        topic = topic_data.topic_info[topic_data.topic_info.Category == 'Topic'+str(i)].copy()\n",
    "        topic['relevance'] = topic['loglift']*(1-_lambda)+topic['logprob']*_lambda\n",
    "        all_topics['Topic '+str(i)] = topic.sort_values(by='relevance', ascending=False).Term[:num_terms].values\n",
    "\n",
    "    topics_df = pd.DataFrame(all_topics).T\n",
    "    return topics_df"
   ]
  },
  {
   "cell_type": "code",
   "execution_count": 67,
   "metadata": {},
   "outputs": [
    {
     "name": "stderr",
     "output_type": "stream",
     "text": [
      "c:\\users\\donal\\anaconda3\\envs\\topic-modeling-optimization\\lib\\site-packages\\ipykernel\\ipkernel.py:283: DeprecationWarning: `should_run_async` will not call `transform_cell` automatically in the future. Please pass the result to `transformed_cell` argument and any exception that happen during thetransform in `preprocessing_exc_tuple` in IPython 7.17 and above.\n",
      "  and should_run_async(code)\n"
     ]
    },
    {
     "data": {
      "text/html": [
       "<div>\n",
       "<style scoped>\n",
       "    .dataframe tbody tr th:only-of-type {\n",
       "        vertical-align: middle;\n",
       "    }\n",
       "\n",
       "    .dataframe tbody tr th {\n",
       "        vertical-align: top;\n",
       "    }\n",
       "\n",
       "    .dataframe thead th {\n",
       "        text-align: right;\n",
       "    }\n",
       "</style>\n",
       "<table border=\"1\" class=\"dataframe\">\n",
       "  <thead>\n",
       "    <tr style=\"text-align: right;\">\n",
       "      <th></th>\n",
       "      <th>0</th>\n",
       "      <th>1</th>\n",
       "      <th>2</th>\n",
       "      <th>3</th>\n",
       "      <th>4</th>\n",
       "      <th>5</th>\n",
       "      <th>6</th>\n",
       "      <th>7</th>\n",
       "      <th>8</th>\n",
       "      <th>9</th>\n",
       "    </tr>\n",
       "  </thead>\n",
       "  <tbody>\n",
       "    <tr>\n",
       "      <th>Topic 1</th>\n",
       "      <td>hair</td>\n",
       "      <td>skin</td>\n",
       "      <td>conditioner</td>\n",
       "      <td>shampoo</td>\n",
       "      <td>lip</td>\n",
       "      <td>shine</td>\n",
       "      <td>lotion</td>\n",
       "      <td>makeup</td>\n",
       "      <td>moisturizer</td>\n",
       "      <td>damage</td>\n",
       "    </tr>\n",
       "    <tr>\n",
       "      <th>Topic 2</th>\n",
       "      <td>snack</td>\n",
       "      <td>chocolate</td>\n",
       "      <td>bar</td>\n",
       "      <td>chip</td>\n",
       "      <td>crunch</td>\n",
       "      <td>peanut_butter</td>\n",
       "      <td>cheddar</td>\n",
       "      <td>dip</td>\n",
       "      <td>potato_chip</td>\n",
       "      <td>iced_tea</td>\n",
       "    </tr>\n",
       "    <tr>\n",
       "      <th>Topic 3</th>\n",
       "      <td>calcium</td>\n",
       "      <td>fever</td>\n",
       "      <td>intend</td>\n",
       "      <td>statement</td>\n",
       "      <td>vitamin_d</td>\n",
       "      <td>supplement</td>\n",
       "      <td>diagnose_treat_cure</td>\n",
       "      <td>magnesium</td>\n",
       "      <td>hershey</td>\n",
       "      <td>brain</td>\n",
       "    </tr>\n",
       "    <tr>\n",
       "      <th>Topic 4</th>\n",
       "      <td>boiron</td>\n",
       "      <td>knorr</td>\n",
       "      <td>commit</td>\n",
       "      <td>tender</td>\n",
       "      <td>peppermint</td>\n",
       "      <td>stomach</td>\n",
       "      <td>battery</td>\n",
       "      <td>cavity</td>\n",
       "      <td>crocker</td>\n",
       "      <td>bathroom</td>\n",
       "    </tr>\n",
       "    <tr>\n",
       "      <th>Topic 5</th>\n",
       "      <td>coffee</td>\n",
       "      <td>eye</td>\n",
       "      <td>lash</td>\n",
       "      <td>curl</td>\n",
       "      <td>toothpaste</td>\n",
       "      <td>mascara</td>\n",
       "      <td>chili</td>\n",
       "      <td>foot</td>\n",
       "      <td>dandruff</td>\n",
       "      <td>shoulder</td>\n",
       "    </tr>\n",
       "    <tr>\n",
       "      <th>Topic 6</th>\n",
       "      <td>detergent</td>\n",
       "      <td>relief</td>\n",
       "      <td>sheet</td>\n",
       "      <td>ache</td>\n",
       "      <td>symptom</td>\n",
       "      <td>cough</td>\n",
       "      <td>throat</td>\n",
       "      <td>pain</td>\n",
       "      <td>laundry</td>\n",
       "      <td>headache</td>\n",
       "    </tr>\n",
       "    <tr>\n",
       "      <th>Topic 7</th>\n",
       "      <td>dog</td>\n",
       "      <td>cat</td>\n",
       "      <td>cat_food</td>\n",
       "      <td>dog_food</td>\n",
       "      <td>wellness</td>\n",
       "      <td>bandage</td>\n",
       "      <td>wellness_complete_health</td>\n",
       "      <td>gum</td>\n",
       "      <td>dry_cat_food</td>\n",
       "      <td>grain_free</td>\n",
       "    </tr>\n",
       "    <tr>\n",
       "      <th>Topic 8</th>\n",
       "      <td>cereal</td>\n",
       "      <td>almond</td>\n",
       "      <td>breakfast</td>\n",
       "      <td>grain</td>\n",
       "      <td>barilla</td>\n",
       "      <td>quaker</td>\n",
       "      <td>granola</td>\n",
       "      <td>oat</td>\n",
       "      <td>bread</td>\n",
       "      <td>chunk</td>\n",
       "    </tr>\n",
       "  </tbody>\n",
       "</table>\n",
       "</div>"
      ],
      "text/plain": [
       "                 0          1            2          3           4  \\\n",
       "Topic 1       hair       skin  conditioner    shampoo         lip   \n",
       "Topic 2      snack  chocolate          bar       chip      crunch   \n",
       "Topic 3    calcium      fever       intend  statement   vitamin_d   \n",
       "Topic 4     boiron      knorr       commit     tender  peppermint   \n",
       "Topic 5     coffee        eye         lash       curl  toothpaste   \n",
       "Topic 6  detergent     relief        sheet       ache     symptom   \n",
       "Topic 7        dog        cat     cat_food   dog_food    wellness   \n",
       "Topic 8     cereal     almond    breakfast      grain     barilla   \n",
       "\n",
       "                     5                         6          7             8  \\\n",
       "Topic 1          shine                    lotion     makeup   moisturizer   \n",
       "Topic 2  peanut_butter                   cheddar        dip   potato_chip   \n",
       "Topic 3     supplement       diagnose_treat_cure  magnesium       hershey   \n",
       "Topic 4        stomach                   battery     cavity       crocker   \n",
       "Topic 5        mascara                     chili       foot      dandruff   \n",
       "Topic 6          cough                    throat       pain       laundry   \n",
       "Topic 7        bandage  wellness_complete_health        gum  dry_cat_food   \n",
       "Topic 8         quaker                   granola        oat         bread   \n",
       "\n",
       "                  9  \n",
       "Topic 1      damage  \n",
       "Topic 2    iced_tea  \n",
       "Topic 3       brain  \n",
       "Topic 4    bathroom  \n",
       "Topic 5    shoulder  \n",
       "Topic 6    headache  \n",
       "Topic 7  grain_free  \n",
       "Topic 8       chunk  "
      ]
     },
     "execution_count": 67,
     "metadata": {},
     "output_type": "execute_result"
    }
   ],
   "source": [
    "output_word_list(.08)"
   ]
  },
  {
   "cell_type": "markdown",
   "metadata": {},
   "source": [
    "## Inspecting Topics"
   ]
  },
  {
   "cell_type": "code",
   "execution_count": 69,
   "metadata": {},
   "outputs": [
    {
     "name": "stderr",
     "output_type": "stream",
     "text": [
      "c:\\users\\donal\\anaconda3\\envs\\topic-modeling-optimization\\lib\\site-packages\\ipykernel\\ipkernel.py:283: DeprecationWarning: `should_run_async` will not call `transform_cell` automatically in the future. Please pass the result to `transformed_cell` argument and any exception that happen during thetransform in `preprocessing_exc_tuple` in IPython 7.17 and above.\n",
      "  and should_run_async(code)\n"
     ]
    }
   ],
   "source": [
    "def inspect_topics(lda_model):\n",
    "    for topic_id in range(lda_model.num_topics):\n",
    "        topk = lda_model.show_topic(topic_id, 8)\n",
    "        topk_words = [ w for w, _ in topk ]\n",
    "\n",
    "        print('{}: {}'.format(topic_id, ' '.join(topk_words)))"
   ]
  },
  {
   "cell_type": "code",
   "execution_count": 70,
   "metadata": {},
   "outputs": [
    {
     "name": "stdout",
     "output_type": "stream",
     "text": [
      "0: rice family product food ingredient soup year company\n",
      "1: coffee eye use product cup water bean chili\n",
      "2: grain food cereal almond wheat breakfast pasta help\n",
      "3: protein food product health help support calcium body\n",
      "4: relief pain use product stain symptom detergent water\n",
      "5: protection design help comfort support size pad fit\n",
      "6: dog cat cat_food health food ingredient dog_food wellness\n",
      "7: cracker heat beef style stick work thing feature\n",
      "8: flavor snack taste bar fruit chocolate pack chip\n",
      "9: tea day image protection odor mint body_wash deodorant\n",
      "10: hair skin use help oil formula conditioner color\n"
     ]
    },
    {
     "name": "stderr",
     "output_type": "stream",
     "text": [
      "c:\\users\\donal\\anaconda3\\envs\\topic-modeling-optimization\\lib\\site-packages\\ipykernel\\ipkernel.py:283: DeprecationWarning: `should_run_async` will not call `transform_cell` automatically in the future. Please pass the result to `transformed_cell` argument and any exception that happen during thetransform in `preprocessing_exc_tuple` in IPython 7.17 and above.\n",
      "  and should_run_async(code)\n"
     ]
    }
   ],
   "source": [
    "inspect_topics(best_lda_model)"
   ]
  },
  {
   "cell_type": "markdown",
   "metadata": {},
   "source": [
    "# Predict the topics of a Document\n",
    "\n",
    "Results here will continuously vary due to random number generation of the algorithm.\n",
    "This method can be used a means to determine how well a topic relates to a comment.\n"
   ]
  },
  {
   "cell_type": "code",
   "execution_count": 73,
   "metadata": {},
   "outputs": [
    {
     "name": "stderr",
     "output_type": "stream",
     "text": [
      "c:\\users\\donal\\anaconda3\\envs\\topic-modeling-optimization\\lib\\site-packages\\ipykernel\\ipkernel.py:283: DeprecationWarning: `should_run_async` will not call `transform_cell` automatically in the future. Please pass the result to `transformed_cell` argument and any exception that happen during thetransform in `preprocessing_exc_tuple` in IPython 7.17 and above.\n",
      "  and should_run_async(code)\n"
     ]
    }
   ],
   "source": [
    "# Example\n",
    "def predict_topics(document, lda_model):\n",
    "    doc = document.split()\n",
    "\n",
    "    doc_vector = lda_model.id2word.doc2bow(doc)\n",
    "    doc_topics = lda_model[doc_vector]\n",
    "    \n",
    "    print(doc_topics)"
   ]
  },
  {
   "cell_type": "code",
   "execution_count": 74,
   "metadata": {},
   "outputs": [
    {
     "name": "stdout",
     "output_type": "stream",
     "text": [
      "[(0, 0.03031991), (1, 0.03031991), (2, 0.3635675), (3, 0.03031991), (4, 0.03031991), (5, 0.03031991), (6, 0.03031991), (7, 0.03031991), (8, 0.03031991), (9, 0.36355335), (10, 0.03031991)]\n"
     ]
    },
    {
     "name": "stderr",
     "output_type": "stream",
     "text": [
      "c:\\users\\donal\\anaconda3\\envs\\topic-modeling-optimization\\lib\\site-packages\\ipykernel\\ipkernel.py:283: DeprecationWarning: `should_run_async` will not call `transform_cell` automatically in the future. Please pass the result to `transformed_cell` argument and any exception that happen during thetransform in `preprocessing_exc_tuple` in IPython 7.17 and above.\n",
      "  and should_run_async(code)\n"
     ]
    }
   ],
   "source": [
    "predict_topics('this book describes windows software', best_lda_model)"
   ]
  },
  {
   "cell_type": "markdown",
   "metadata": {},
   "source": [
    "# Recommending a topic based on word association weights.\n",
    "\n",
    "A recommender system could be used to potentially determine the exact predefined topic for a word."
   ]
  },
  {
   "cell_type": "code",
   "execution_count": null,
   "metadata": {},
   "outputs": [],
   "source": []
  },
  {
   "cell_type": "markdown",
   "metadata": {},
   "source": [
    "### Train Multiple Coherence Models with a list of numerous parameters"
   ]
  },
  {
   "cell_type": "code",
   "execution_count": null,
   "metadata": {},
   "outputs": [],
   "source": [
    "# Set Dictionary with list of various parameter values\n",
    "lda_training_dictionary = {'lda_passes' : [],\n",
    "                          'lda_iterations': [],\n",
    "                          'lda_chunksize': []}"
   ]
  },
  {
   "cell_type": "code",
   "execution_count": null,
   "metadata": {},
   "outputs": [],
   "source": []
  },
  {
   "cell_type": "markdown",
   "metadata": {},
   "source": [
    "#### User Interface - Coherence Model Training"
   ]
  },
  {
   "cell_type": "code",
   "execution_count": null,
   "metadata": {},
   "outputs": [],
   "source": []
  }
 ],
 "metadata": {
  "kernelspec": {
   "display_name": "Python 3",
   "language": "python",
   "name": "python3"
  },
  "language_info": {
   "codemirror_mode": {
    "name": "ipython",
    "version": 3
   },
   "file_extension": ".py",
   "mimetype": "text/x-python",
   "name": "python",
   "nbconvert_exporter": "python",
   "pygments_lexer": "ipython3",
   "version": "3.8.8"
  }
 },
 "nbformat": 4,
 "nbformat_minor": 1
}